{
 "cells": [
  {
   "cell_type": "markdown",
   "metadata": {},
   "source": [
    "# Loading Data and Making Predictions "
   ]
  },
  {
   "cell_type": "markdown",
   "metadata": {},
   "source": [
    "Here we briefly discuss how to load the [Cook County Data](https://datacatalog.cookcountyil.gov/Courts/Sentencing/tg8v-tm6u/data)\n",
    "set and apply the necessary preprocessing so that a discrepancy calculation can be made.  We also demonstrate how these functions can be called either through the notebook (python) API or via REST API if the Flask Server is running.   "
   ]
  },
  {
   "cell_type": "code",
   "execution_count": 2,
   "metadata": {},
   "outputs": [],
   "source": [
    "import pickle\n",
    "import json\n",
    "import pandas as pd\n",
    "import os\n",
    "import requests\n",
    "import sys"
   ]
  },
  {
   "cell_type": "markdown",
   "metadata": {},
   "source": [
    "## Loading and Preparing the Dataset"
   ]
  },
  {
   "cell_type": "markdown",
   "metadata": {},
   "source": [
    "The model was trained on the Cook County Dataset, so we will load this data and make the same modifications to the schema that were made during the training process.  Let's make sure we download the right dataset:"
   ]
  },
  {
   "cell_type": "code",
   "execution_count": 3,
   "metadata": {},
   "outputs": [
    {
     "name": "stdout",
     "output_type": "stream",
     "text": [
      "--2020-10-15 04:47:46--  https://datacatalog.cookcountyil.gov/api/views/tg8v-tm6u/rows.csv?accessType=DOWNLOAD\n",
      "Resolving datacatalog.cookcountyil.gov (datacatalog.cookcountyil.gov)... 52.206.140.205, 52.206.68.26, 52.206.140.199\n",
      "Connecting to datacatalog.cookcountyil.gov (datacatalog.cookcountyil.gov)|52.206.140.205|:443... connected.\n",
      "HTTP request sent, awaiting response... 200 OK\n",
      "Length: unspecified [text/csv]\n",
      "Saving to: ‘../server/models/Sentencing-cook_county.csv’\n",
      "\n",
      "../server/models/Se     [    <=>             ] 117.36M  8.97MB/s    in 13s     \n",
      "\n",
      "2020-10-15 04:48:00 (9.04 MB/s) - ‘../server/models/Sentencing-cook_county.csv’ saved [123066339]\n",
      "\n"
     ]
    }
   ],
   "source": [
    "# Downloading Cook County Dataset\n",
    "if os.path.isfile('../server/models/Sentencing-cook_county.csv'):\n",
    "    print(\"Cook County Data Already Downloaded\")\n",
    "else:\n",
    "    !wget -O ../server/models/Sentencing-cook_county.csv https://datacatalog.cookcountyil.gov/api/views/tg8v-tm6u/rows.csv?accessType=DOWNLOAD "
   ]
  },
  {
   "cell_type": "markdown",
   "metadata": {},
   "source": [
    "We are going to use some data processing functions that were written especially for this project, so we need to import those:"
   ]
  },
  {
   "cell_type": "markdown",
   "metadata": {},
   "source": [
    "It is possible, using [Model Notebook](Model.ipynb), to train a new model.  Each new model has a timestamp associated with it.  We can make sure the model that we are using is the one being used in the server by comparing model names:"
   ]
  },
  {
   "cell_type": "code",
   "execution_count": 4,
   "metadata": {},
   "outputs": [],
   "source": [
    "model_name = 'sentence_pipe_mae1.555_2020-10-10_02h46m24s'\n",
    "\n",
    "cwd = os.getcwd()\n",
    "model_path = cwd + '/../server/models/' + model_name + '.pkl'\n",
    "\n",
    "# loading trained model\n",
    "with open(model_path, 'rb') as f:\n",
    "    model = pickle.load(f)"
   ]
  },
  {
   "cell_type": "markdown",
   "metadata": {},
   "source": [
    "We can look at the columns that are used in the model prediction.  Knowing what columns serve as inputs to the model will help us formulate the `predict` requests."
   ]
  },
  {
   "cell_type": "code",
   "execution_count": 5,
   "metadata": {},
   "outputs": [
    {
     "name": "stdout",
     "output_type": "stream",
     "text": [
      "Index(['PRIMARY_CHARGE_FLAG', 'DISPOSITION_CHARGED_OFFENSE_TITLE',\n",
      "       'CHARGE_COUNT', 'DISPOSITION_CHARGED_CLASS', 'CHARGE_DISPOSITION',\n",
      "       'SENTENCE_JUDGE', 'SENTENCE_PHASE', 'AGE_AT_INCIDENT', 'RACE', 'GENDER',\n",
      "       'LAW_ENFORCEMENT_AGENCY', 'UPDATED_OFFENSE_CATEGORY'],\n",
      "      dtype='object')\n"
     ]
    }
   ],
   "source": [
    "orig_cols = model[0]._df_columns\n",
    "print(orig_cols)"
   ]
  },
  {
   "cell_type": "markdown",
   "metadata": {},
   "source": [
    "The data has 41 columns, and many of those columns are not useful in any type of training strategy:"
   ]
  },
  {
   "cell_type": "code",
   "execution_count": 6,
   "metadata": {},
   "outputs": [
    {
     "name": "stdout",
     "output_type": "stream",
     "text": [
      "CASE_ID,CASE_PARTICIPANT_ID,RECEIVED_DATE,OFFENSE_CATEGORY,PRIMARY_CHARGE_FLAG,CHARGE_ID,CHARGE_VERSION_ID,DISPOSITION_CHARGED_OFFENSE_TITLE,CHARGE_COUNT,DISPOSITION_DATE,DISPOSITION_CHARGED_CHAPTER,DISPOSITION_CHARGED_ACT,DISPOSITION_CHARGED_SECTION,DISPOSITION_CHARGED_CLASS,DISPOSITION_CHARGED_AOIC,CHARGE_DISPOSITION,CHARGE_DISPOSITION_REASON,SENTENCE_JUDGE,SENTENCE_COURT_NAME,SENTENCE_COURT_FACILITY,SENTENCE_PHASE,SENTENCE_DATE,SENTENCE_TYPE,CURRENT_SENTENCE_FLAG,COMMITMENT_TYPE,COMMITMENT_TERM,COMMITMENT_UNIT,LENGTH_OF_CASE_in_Days,AGE_AT_INCIDENT,RACE,GENDER,INCIDENT_CITY,INCIDENT_BEGIN_DATE,INCIDENT_END_DATE,LAW_ENFORCEMENT_AGENCY,LAW_ENFORCEMENT_UNIT,ARREST_DATE,FELONY_REVIEW_DATE,FELONY_REVIEW_RESULT,ARRAIGNMENT_DATE,UPDATED_OFFENSE_CATEGORY\n",
      "\n",
      "number of columns in csv file:  41\n"
     ]
    }
   ],
   "source": [
    "csv = '../server/models/Sentencing-cook_county.csv'\n",
    "all_cols = open(csv).readline()\n",
    "print(all_cols)\n",
    "print(\"number of columns in csv file:  \" + str(len(all_cols.split(\",\"))))"
   ]
  },
  {
   "cell_type": "markdown",
   "metadata": {},
   "source": [
    "We can filter some of these columns down to those features which are more likely to be relevant to modeling.  As we will see, this column list will be further modified as we hoome in on the particular model that will be used, but this is a much better place to start than the full dataset:"
   ]
  },
  {
   "cell_type": "code",
   "execution_count": 7,
   "metadata": {},
   "outputs": [
    {
     "name": "stderr",
     "output_type": "stream",
     "text": [
      "/Users/nilmeier@us.ibm.com/anaconda2/envs/p37-dojo/lib/python3.7/site-packages/IPython/core/interactiveshell.py:3063: DtypeWarning: Columns (25) have mixed types.Specify dtype option on import or set low_memory=False.\n",
      "  interactivity=interactivity, compiler=compiler, result=result)\n"
     ]
    }
   ],
   "source": [
    "#Loading directly from Cook County Data\n",
    "csv = '../server/models/Sentencing-cook_county.csv'\n",
    "cols = ['CHARGE_COUNT',\n",
    "        'CHARGE_DISPOSITION', 'UPDATED_OFFENSE_CATEGORY', 'PRIMARY_CHARGE_FLAG',\n",
    "        'DISPOSITION_CHARGED_OFFENSE_TITLE', 'DISPOSITION_CHARGED_CLASS', 'SENTENCE_JUDGE',\n",
    "        'SENTENCE_PHASE', 'COMMITMENT_TERM', 'COMMITMENT_UNIT', 'LENGTH_OF_CASE_in_Days',\n",
    "        'AGE_AT_INCIDENT', 'RACE', 'GENDER', 'INCIDENT_CITY', 'LAW_ENFORCEMENT_AGENCY',\n",
    "        'LAW_ENFORCEMENT_UNIT', 'SENTENCE_TYPE']\n",
    "\n",
    "# dataset for including criminal history information\n",
    "orig_data = pd.read_csv(csv, usecols=cols)"
   ]
  },
  {
   "cell_type": "markdown",
   "metadata": {},
   "source": [
    "The loaded data contains many records for which there are no sentences applied.  We want to filter these out and apply some other operations.  This is done using `clean_data`.  Here, we only remove rows, and do not remove unnecessary columns (yet)."
   ]
  },
  {
   "cell_type": "code",
   "execution_count": 8,
   "metadata": {},
   "outputs": [
    {
     "name": "stderr",
     "output_type": "stream",
     "text": [
      "/Users/nilmeier@us.ibm.com/Box/git/open-sentencing-model/notebooks/predict.py:142: SettingWithCopyWarning: \n",
      "A value is trying to be set on a copy of a slice from a DataFrame.\n",
      "Try using .loc[row_indexer,col_indexer] = value instead\n",
      "\n",
      "See the caveats in the documentation: https://pandas.pydata.org/pandas-docs/stable/user_guide/indexing.html#returning-a-view-versus-a-copy\n",
      "  data['RACE'] = data['RACE'].map(standard_race_map)\n"
     ]
    },
    {
     "name": "stdout",
     "output_type": "stream",
     "text": [
      "number of records in original set:243006\n",
      "number of records in filtered set:39973\n"
     ]
    }
   ],
   "source": [
    "from predict import clean_data, estimate_discrepancy\n",
    "data = clean_data(orig_data.copy(),removeColumns=False)\n",
    "print(\"number of records in original set:\" + str(len(orig_data)))\n",
    "print(\"number of records in filtered set:\" + str(len(data)))"
   ]
  },
  {
   "cell_type": "markdown",
   "metadata": {},
   "source": [
    "We can verify that the schema has not changed:"
   ]
  },
  {
   "cell_type": "code",
   "execution_count": 9,
   "metadata": {},
   "outputs": [
    {
     "name": "stdout",
     "output_type": "stream",
     "text": [
      "columns from original data load:\n",
      "\n",
      "Index(['PRIMARY_CHARGE_FLAG', 'DISPOSITION_CHARGED_OFFENSE_TITLE',\n",
      "       'CHARGE_COUNT', 'DISPOSITION_CHARGED_CLASS', 'CHARGE_DISPOSITION',\n",
      "       'SENTENCE_JUDGE', 'SENTENCE_PHASE', 'SENTENCE_TYPE', 'COMMITMENT_TERM',\n",
      "       'COMMITMENT_UNIT', 'LENGTH_OF_CASE_in_Days', 'AGE_AT_INCIDENT', 'RACE',\n",
      "       'GENDER', 'INCIDENT_CITY', 'LAW_ENFORCEMENT_AGENCY',\n",
      "       'LAW_ENFORCEMENT_UNIT', 'UPDATED_OFFENSE_CATEGORY'],\n",
      "      dtype='object')\n",
      "\n",
      "columns after clean_data\n",
      "\n",
      "Index(['PRIMARY_CHARGE_FLAG', 'DISPOSITION_CHARGED_OFFENSE_TITLE',\n",
      "       'CHARGE_COUNT', 'DISPOSITION_CHARGED_CLASS', 'CHARGE_DISPOSITION',\n",
      "       'SENTENCE_JUDGE', 'SENTENCE_PHASE', 'SENTENCE_TYPE', 'COMMITMENT_TERM',\n",
      "       'COMMITMENT_UNIT', 'LENGTH_OF_CASE_in_Days', 'AGE_AT_INCIDENT', 'RACE',\n",
      "       'GENDER', 'INCIDENT_CITY', 'LAW_ENFORCEMENT_AGENCY',\n",
      "       'LAW_ENFORCEMENT_UNIT', 'UPDATED_OFFENSE_CATEGORY'],\n",
      "      dtype='object')\n"
     ]
    }
   ],
   "source": [
    "print(\"columns from original data load:\\n\")\n",
    "print(orig_data.columns)\n",
    "print(\"\\ncolumns after clean_data\\n\")\n",
    "print(data.columns)"
   ]
  },
  {
   "cell_type": "markdown",
   "metadata": {},
   "source": [
    "## Making predictions with the Python API"
   ]
  },
  {
   "cell_type": "markdown",
   "metadata": {},
   "source": [
    "We can take the first row (`rowNumber = 0`) and use that as an input to the `model.predict` method.  This model returns the expected length of a prison sentence in years for a person with a given set of features (including race)."
   ]
  },
  {
   "cell_type": "code",
   "execution_count": 10,
   "metadata": {},
   "outputs": [
    {
     "name": "stdout",
     "output_type": "stream",
     "text": [
      "\n",
      "result of model prediction: 4.132 years\n"
     ]
    }
   ],
   "source": [
    "rowNumber = 0\n",
    "results = (model.predict(data[orig_cols]))\n",
    "# this returns a list of results, we are only spot checking:\n",
    "result = round(results[rowNumber], 3)\n",
    "\n",
    "print(\"\\nresult of model prediction: \" + str(result) + \" years\")"
   ]
  },
  {
   "cell_type": "markdown",
   "metadata": {},
   "source": [
    "The discrepancy calculation predicts the difference in sentencing if the person were of a different race.  For this calculation, we remove some columns and call `estimate_discrepancy`."
   ]
  },
  {
   "cell_type": "code",
   "execution_count": 11,
   "metadata": {},
   "outputs": [
    {
     "name": "stdout",
     "output_type": "stream",
     "text": [
      "Index(['PRIMARY_CHARGE_FLAG', 'DISPOSITION_CHARGED_OFFENSE_TITLE',\n",
      "       'CHARGE_COUNT', 'DISPOSITION_CHARGED_CLASS', 'CHARGE_DISPOSITION',\n",
      "       'SENTENCE_JUDGE', 'SENTENCE_PHASE', 'AGE_AT_INCIDENT', 'RACE', 'GENDER',\n",
      "       'LAW_ENFORCEMENT_AGENCY', 'UPDATED_OFFENSE_CATEGORY'],\n",
      "      dtype='object')\n",
      "difference in sentencing: 0.211 years\n"
     ]
    }
   ],
   "source": [
    "dataForDiscrepancyCalc = clean_data(data, removeColumns=True)[orig_cols]\n",
    "print(dataForDiscrepancyCalc.columns)\n",
    "\n",
    "# again, the full dataset is evaluated and we only spot check a single row\n",
    "discrepancies  = estimate_discrepancy(model, dataForDiscrepancyCalc, return_pred=True)\n",
    "\n",
    "discrepancy = round(discrepancies[0][rowNumber], 3)\n",
    "\n",
    "print(\"difference in sentencing: \"  + str(discrepancy) + \" years\")"
   ]
  },
  {
   "cell_type": "markdown",
   "metadata": {},
   "source": [
    "## Calling REST API"
   ]
  },
  {
   "cell_type": "markdown",
   "metadata": {},
   "source": [
    "### Launching the Flask Server and Making Requests from Notebook"
   ]
  },
  {
   "cell_type": "markdown",
   "metadata": {},
   "source": [
    "The (need to update link) [README](https://github.ibm.com/nilmeier/Embrace-2020/blob/master/README.md) of this repository gives instructions on launching the server and making appropriate calls to the API using `curl` or Postman. To make REST calls from the notebook, you will need to launch the flask server separately.\n",
    "\n",
    "Download the repository and run the following command to start up a flask server running the model. \n",
    "```\n",
    "python manage.py run\n",
    "```\n"
   ]
  },
  {
   "cell_type": "markdown",
   "metadata": {},
   "source": [
    "The server should be accessible at `localhost:5000`\n",
    "Use the `request` module to send requests.  Here, we are simply taking the first row of our dataset and posting a `predict` request. "
   ]
  },
  {
   "cell_type": "code",
   "execution_count": 12,
   "metadata": {},
   "outputs": [
    {
     "name": "stdout",
     "output_type": "stream",
     "text": [
      "JSON string used in REST call\n",
      "\n",
      "{\"PRIMARY_CHARGE_FLAG\":false,\"DISPOSITION_CHARGED_OFFENSE_TITLE\":\"[POSSESSION OF CONTROLLED SUBSTANCE WITH INTENT TO DELIVER\\/ DELIVERY OF A CONTROLLED SUBSTANCE]\",\"CHARGE_COUNT\":2,\"DISPOSITION_CHARGED_CLASS\":\"2\",\"CHARGE_DISPOSITION\":\"Plea Of Guilty\",\"SENTENCE_JUDGE\":\"Maura  Slattery Boyle\",\"SENTENCE_PHASE\":\"Original Sentencing\",\"SENTENCE_TYPE\":\"Prison\",\"COMMITMENT_TERM\":3.0,\"COMMITMENT_UNIT\":\"Year(s)\",\"LENGTH_OF_CASE_in_Days\":336.0,\"AGE_AT_INCIDENT\":52.0,\"RACE\":\"Black\",\"GENDER\":\"Female\",\"INCIDENT_CITY\":\"Chicago\",\"LAW_ENFORCEMENT_AGENCY\":\"CHICAGO PD\",\"LAW_ENFORCEMENT_UNIT\":\"District 25 - Grand Central\",\"UPDATED_OFFENSE_CATEGORY\":\"Narcotics\"}\n",
      "\n",
      "{\n",
      "  \"model_name\": \"sentence_pipe_mae1.555_2020-10-10_02h46m24s\", \n",
      "  \"sentencing_discrepency\": 0.211, \n",
      "  \"severity\": 0.555\n",
      "}\n",
      "\n",
      "compare to (using direct python):\n",
      "  discrepancy:0.211\n",
      "  model_name: sentence_pipe_mae1.555_2020-10-10_02h46m24s\n"
     ]
    }
   ],
   "source": [
    "postJson = data.iloc[rowNumber,:].to_json()\n",
    "\n",
    "print(\"JSON string used in REST call\\n\")\n",
    "print(str(postJson))\n",
    "\n",
    "url = \"http://localhost:3000/predict\"\n",
    "\n",
    "resp = requests.post(url, data = postJson, headers = {'content-type':'application/json'})\n",
    "\n",
    "print()\n",
    "print(resp.text)\n",
    "print(\"compare to (using direct python):\\n  discrepancy:\" + str(discrepancy))\n",
    "print(\"  model_name: \" + model_name)"
   ]
  },
  {
   "cell_type": "markdown",
   "metadata": {},
   "source": [
    "The severity calculation is slightly more involved, and is not discussed in this notebook.  You can review the code to see what it does if interested!"
   ]
  },
  {
   "cell_type": "markdown",
   "metadata": {},
   "source": [
    "Notebook written by:\n",
    "- [Noah Chasek Macfoy](https://www.linkedin.com/in/noah-chasek-macfoy) \n",
    "Data Scientist, IBM\n",
    "- [Jerome Nilmeier, PhD](http://linkedin.com/in/nilmeier)\n",
    "Developer Advocate and Data Scientist, IBM"
   ]
  }
 ],
 "metadata": {
  "kernelspec": {
   "display_name": "Python 3",
   "language": "python",
   "name": "python3"
  },
  "language_info": {
   "codemirror_mode": {
    "name": "ipython",
    "version": 3
   },
   "file_extension": ".py",
   "mimetype": "text/x-python",
   "name": "python",
   "nbconvert_exporter": "python",
   "pygments_lexer": "ipython3",
   "version": "3.7.7"
  }
 },
 "nbformat": 4,
 "nbformat_minor": 4
}
