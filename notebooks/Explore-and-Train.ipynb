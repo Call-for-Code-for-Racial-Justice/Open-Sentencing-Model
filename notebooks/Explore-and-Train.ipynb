{
 "cells": [
  {
   "cell_type": "markdown",
   "metadata": {},
   "source": [
    "# Understanding Racial Bias in Prison Sentence Data"
   ]
  },
  {
   "cell_type": "markdown",
   "metadata": {},
   "source": [
    "Using a representative dataset, we will discuss how racial bias can be understood quantitatively.  To do this, we will use a classic and robustly optimized supervised machine learning approach to generate a predictive model for prison sentences bassed on a number of features, including race.  We can then see how there are disparities between prison sentences given that all other features are equal *except* for race.  This model is then wrapped into a server framework where predictions can be made and understood.  It is hoped that we can provide a way for nontechnical users to better estimate fair prison sentences for all races represented in the model. "
   ]
  },
  {
   "cell_type": "markdown",
   "metadata": {},
   "source": [
    "## Library imports"
   ]
  },
  {
   "cell_type": "code",
   "execution_count": 1,
   "metadata": {},
   "outputs": [
    {
     "name": "stderr",
     "output_type": "stream",
     "text": [
      "\n",
      "Bad key \"text.kerning_factor\" on line 4 in\n",
      "/Users/nilmeier@us.ibm.com/anaconda2/envs/p37-dojo/lib/python3.7/site-packages/matplotlib/mpl-data/stylelib/_classic_test_patch.mplstyle.\n",
      "You probably need to get an updated matplotlibrc file from\n",
      "https://github.com/matplotlib/matplotlib/blob/v3.1.3/matplotlibrc.template\n",
      "or from the matplotlib source distribution\n"
     ]
    }
   ],
   "source": [
    "%load_ext autoreload\n",
    "%autoreload 2\n",
    "\n",
    "import pandas as pd\n",
    "import numpy as np\n",
    "from IPython.display import display\n",
    "import matplotlib.pyplot as plt\n",
    "%matplotlib inline\n",
    "import seaborn as sns\n",
    "import xgboost as xgb\n",
    "from xgboost.sklearn import XGBRegressor\n",
    "from sklearn.pipeline import Pipeline\n",
    "from sklearn.preprocessing import OneHotEncoder\n",
    "from sklearn.compose import ColumnTransformer\n",
    "from sklearn.model_selection import train_test_split\n",
    "from sklearn.metrics import mean_absolute_error, r2_score\n",
    "from scipy.stats import pearsonr\n",
    "import dython\n",
    "\n",
    "import pickle\n",
    "import datetime as dt\n",
    "import sys\n",
    "import os\n",
    "import inspect\n",
    "import json\n",
    "\n",
    "from predict import clean_data  #local functions are identical to those which are used in the flask server\n",
    "\n",
    "modelDirectory = \"../server/models/\"  #path to input data and trained models.\n"
   ]
  },
  {
   "cell_type": "markdown",
   "metadata": {},
   "source": [
    "## Loading the Training Data"
   ]
  },
  {
   "cell_type": "markdown",
   "metadata": {},
   "source": [
    "The dataset used is provided by Cook County, IL, the county which houses Chicago, and among the most populous cities in the United States.  Like most large cities, there is significant ethnic and socioeconomic diversity, with extremes in wealth and poverty.  Cook County has released a trove of criminal and other data through their Open Data program.  We will study and model the data from the following source:\n",
    "\n",
    "**Data Source**: https://datacatalog.cookcountyil.gov/Courts/Sentencing/tg8v-tm6u/data \n",
    "\n",
    "**Data Dictionary**: https://datacatalog.cookcountyil.gov/api/views/tg8v-tm6u/files/8597cdda-f7e1-44d1-b0ce-0a4e43f8c980?download=true&filename=CCSAO%20Data%20Glossary.pdf  \n",
    "\n",
    "**Data description**: https://www.cookcountystatesattorney.org/resources/how-read-data"
   ]
  },
  {
   "cell_type": "code",
   "execution_count": 2,
   "metadata": {},
   "outputs": [
    {
     "name": "stdout",
     "output_type": "stream",
     "text": [
      "--2020-10-15 04:56:55--  https://datacatalog.cookcountyil.gov/api/views/tg8v-tm6u/rows.csv?accessType=DOWNLOAD\n",
      "Resolving datacatalog.cookcountyil.gov (datacatalog.cookcountyil.gov)... 52.206.68.26, 52.206.140.199, 52.206.140.205\n",
      "Connecting to datacatalog.cookcountyil.gov (datacatalog.cookcountyil.gov)|52.206.68.26|:443... connected.\n",
      "HTTP request sent, awaiting response... 200 OK\n",
      "Length: unspecified [text/csv]\n",
      "Saving to: ‘../server/models/Sentencing-cook_county.csv’\n",
      "\n",
      "../server/models/Se     [        <=>         ] 117.36M  9.57MB/s    in 12s     \n",
      "\n",
      "2020-10-15 04:57:07 (9.69 MB/s) - ‘../server/models/Sentencing-cook_county.csv’ saved [123066339]\n",
      "\n"
     ]
    }
   ],
   "source": [
    "# Downloading Cook County Dataset\n",
    "if os.path.isfile(modelDirectory + 'Sentencing-cook_county.csv'):\n",
    "    print(\"Cook County Data Already Downloaded\")\n",
    "else:\n",
    "    !wget -O ../server/models/Sentencing-cook_county.csv https://datacatalog.cookcountyil.gov/api/views/tg8v-tm6u/rows.csv?accessType=DOWNLOAD "
   ]
  },
  {
   "cell_type": "markdown",
   "metadata": {},
   "source": [
    "The data has 41 columns, and many of those columns are not useful in any type of training strategy, so we will load only the following columns:"
   ]
  },
  {
   "cell_type": "code",
   "execution_count": 3,
   "metadata": {},
   "outputs": [
    {
     "name": "stderr",
     "output_type": "stream",
     "text": [
      "/Users/nilmeier@us.ibm.com/anaconda2/envs/p37-dojo/lib/python3.7/site-packages/IPython/core/interactiveshell.py:3063: DtypeWarning: Columns (25) have mixed types.Specify dtype option on import or set low_memory=False.\n",
      "  interactivity=interactivity, compiler=compiler, result=result)\n"
     ]
    }
   ],
   "source": [
    "csv = modelDirectory + 'Sentencing-cook_county.csv'\n",
    "#csv = 'https://datacatalog.cookcountyil.gov/api/views/tg8v-tm6u/rows.csv'\n",
    "cols = ['CHARGE_COUNT',\n",
    "        'CHARGE_DISPOSITION', 'UPDATED_OFFENSE_CATEGORY', 'PRIMARY_CHARGE_FLAG',\n",
    "        'DISPOSITION_CHARGED_OFFENSE_TITLE', 'DISPOSITION_CHARGED_CLASS', 'SENTENCE_JUDGE',\n",
    "        'SENTENCE_PHASE', 'COMMITMENT_TERM', 'COMMITMENT_UNIT', 'LENGTH_OF_CASE_in_Days',\n",
    "        'AGE_AT_INCIDENT', 'RACE', 'GENDER', 'INCIDENT_CITY', 'LAW_ENFORCEMENT_AGENCY',\n",
    "        'LAW_ENFORCEMENT_UNIT', 'SENTENCE_TYPE']\n",
    "# 'CASE_PARTICIPANT_ID' and 'ARREST_DATE' could be useful if matched with another \n",
    "# dataset for including criminal history information\n",
    "orig_data = pd.read_csv(csv, usecols=cols)\n",
    "data = orig_data.copy()"
   ]
  },
  {
   "cell_type": "markdown",
   "metadata": {},
   "source": [
    "## Exploring the data"
   ]
  },
  {
   "cell_type": "markdown",
   "metadata": {},
   "source": [
    "An important part of any Data Science approach is to explore the data.  It is important not only for the Data Scientist modeling the data, but for people new to the problem who are trying to develop a deeper understanding of the model.  Exploratory studies reveal the thinking of the data scientist in developing the model, and also provide nice code examples that point to ways of extracting and summarizing the data in meaningful ways."
   ]
  },
  {
   "cell_type": "markdown",
   "metadata": {},
   "source": [
    "## Exploring the Distribution of Categories in High Cardinality Variables"
   ]
  },
  {
   "cell_type": "markdown",
   "metadata": {},
   "source": [
    "An important thing to understand about this categorical data is that there are a very large number of categories in many columns, but that there are also a much smaller set of categories that are reported with significant frequency.  Let's take a look at the function written to count these:"
   ]
  },
  {
   "cell_type": "code",
   "execution_count": 4,
   "metadata": {},
   "outputs": [],
   "source": [
    "# check categorical distribution\n",
    "def check_cat_dist(data, col_name, thresh=.1, top_n=25):\n",
    "    '''fraction of data in levels that represent less than 10% of total'''\n",
    "    freqs = data[col_name].value_counts()\n",
    "    \n",
    "    # percent of data represented by categories with x members\n",
    "    frac_by_freq = freqs.groupby(freqs).sum()/data.shape[0] \n",
    "    thresh = data.shape[0]*thresh\n",
    "    mask = frac_by_freq.index < thresh\n",
    "    \n",
    "     # percent of data in categories that each represent less than 10% of all obs\n",
    "    frac_below_thresh = frac_by_freq[mask].sum()\n",
    "    \n",
    "    # number of categories which have more than thresh % (e.g. 10%) of data in them\n",
    "    num_above_thresh = (~mask).sum() \n",
    "    frac_top_n = freqs[:top_n].sum()/data.shape[0]\n",
    "    return frac_below_thresh, num_above_thresh, frac_top_n"
   ]
  },
  {
   "cell_type": "markdown",
   "metadata": {},
   "source": [
    "Now we can generate a \"spot check\" for each of the features:           "
   ]
  },
  {
   "cell_type": "code",
   "execution_count": 5,
   "metadata": {},
   "outputs": [
    {
     "name": "stdout",
     "output_type": "stream",
     "text": [
      "DISPOSITION_CHARGED_OFFENSE_TITLE\n",
      "1649 categories\n",
      "72.795% of categories have less than 5.0% of the data in them\n",
      "3 categories have more than 5.0% of the data in them\n",
      "89.093% of the data is in the most frequent 73 categories \n",
      "\n",
      "DISPOSITION_CHARGED_CLASS\n",
      "14 categories\n",
      "1.563% of categories have less than 5.0% of the data in them\n",
      "6 categories have more than 5.0% of the data in them\n",
      "99.992% of the data is in the most frequent 73 categories \n",
      "\n",
      "CHARGE_DISPOSITION\n",
      "28 categories\n",
      "2.624% of categories have less than 5.0% of the data in them\n",
      "2 categories have more than 5.0% of the data in them\n",
      "100.0% of the data is in the most frequent 73 categories \n",
      "\n",
      "SENTENCE_JUDGE\n",
      "331 categories\n",
      "99.695% of categories have less than 5.0% of the data in them\n",
      "0 categories have more than 5.0% of the data in them\n",
      "87.724% of the data is in the most frequent 73 categories \n",
      "\n",
      "SENTENCE_PHASE\n",
      "6 categories\n",
      "4.372% of categories have less than 5.0% of the data in them\n",
      "1 categories have more than 5.0% of the data in them\n",
      "100.0% of the data is in the most frequent 73 categories \n",
      "\n",
      "SENTENCE_TYPE\n",
      "14 categories\n",
      "8.493% of categories have less than 5.0% of the data in them\n",
      "2 categories have more than 5.0% of the data in them\n",
      "100.0% of the data is in the most frequent 73 categories \n",
      "\n",
      "COMMITMENT_TERM\n",
      "685 categories\n",
      "48.417% of categories have less than 5.0% of the data in them\n",
      "5 categories have more than 5.0% of the data in them\n",
      "96.916% of the data is in the most frequent 73 categories \n",
      "\n",
      "COMMITMENT_UNIT\n",
      "12 categories\n",
      "4.148% of categories have less than 5.0% of the data in them\n",
      "2 categories have more than 5.0% of the data in them\n",
      "99.314% of the data is in the most frequent 73 categories \n",
      "\n",
      "RACE\n",
      "11 categories\n",
      "3.733% of categories have less than 5.0% of the data in them\n",
      "3 categories have more than 5.0% of the data in them\n",
      "99.482% of the data is in the most frequent 73 categories \n",
      "\n",
      "GENDER\n",
      "6 categories\n",
      "0.005% of categories have less than 5.0% of the data in them\n",
      "2 categories have more than 5.0% of the data in them\n",
      "99.668% of the data is in the most frequent 73 categories \n",
      "\n",
      "INCIDENT_CITY\n",
      "222 categories\n",
      "28.403% of categories have less than 5.0% of the data in them\n",
      "1 categories have more than 5.0% of the data in them\n",
      "88.942% of the data is in the most frequent 73 categories \n",
      "\n",
      "LAW_ENFORCEMENT_AGENCY\n",
      "488 categories\n",
      "35.587% of categories have less than 5.0% of the data in them\n",
      "1 categories have more than 5.0% of the data in them\n",
      "87.669% of the data is in the most frequent 73 categories \n",
      "\n",
      "LAW_ENFORCEMENT_UNIT\n",
      "97 categories\n",
      "23.485% of categories have less than 5.0% of the data in them\n",
      "1 categories have more than 5.0% of the data in them\n",
      "31.042% of the data is in the most frequent 73 categories \n",
      "\n",
      "UPDATED_OFFENSE_CATEGORY\n",
      "80 categories\n",
      "47.394% of categories have less than 5.0% of the data in them\n",
      "4 categories have more than 5.0% of the data in them\n",
      "99.983% of the data is in the most frequent 73 categories \n",
      "\n"
     ]
    }
   ],
   "source": [
    "# look at distribution of obs across categories\n",
    "thresh = .05\n",
    "top_n=73\n",
    "for i in data.select_dtypes('object').columns:\n",
    "    print(i)\n",
    "    a,b,c = check_cat_dist(data, i, thresh, top_n)\n",
    "    print(f'{data[i].unique().shape[0]} categories')\n",
    "    print(f'{round(a*100,3)}% of categories have less than {thresh*100}% of the data in them')\n",
    "    print(f'{b} categories have more than {thresh*100}% of the data in them')\n",
    "    print(f'{round(c*100,3)}% of the data is in the most frequent {top_n} categories', '\\n')\n",
    "\n",
    "\n",
    "# future: turn into transformer with thresh and top_n as params (is that already in OneHotEncoder?)"
   ]
  },
  {
   "cell_type": "markdown",
   "metadata": {},
   "source": [
    "We can see that, for DISPOSITION_CHARGED_OFFENSE_TITLE, there are many categories, but the top 70 or so categories are used much more than the remainder of the dataset.  73% of the categories are virtually empty, (contain <5% of the data).  Looking at the data, there are lots of low counts at the bottom of the list..."
   ]
  },
  {
   "cell_type": "code",
   "execution_count": 6,
   "metadata": {},
   "outputs": [
    {
     "data": {
      "text/plain": [
       "POSSESSION OF A CONTROLLED SUBSTANCE                                                                              37210\n",
       "AGGRAVATED DRIVING UNDER THE INFLUENCE OF ALCOHOL                                                                 15319\n",
       "RETAIL THEFT                                                                                                      13581\n",
       "FELONY DRIVING WHILE DRIVER?S LICENSE, PERMIT, OR PRIVILEGE TO OPERATE A MOTOR VEHICLE IS SUSPENDED OR REVOKED    10824\n",
       "AGGRAVATED UNLAWFUL USE OF WEAPON                                                                                 10098\n",
       "                                                                                                                  ...  \n",
       "UNLAWFUL USE OF A SCANNING DEVICE                                                                                     1\n",
       "KNOW DAMAGE PROP>$10K-100K                                                                                            1\n",
       "POSSESS CANNABIS 2000-5000 GRAMS                                                                                      1\n",
       "MAN/DEL CONT SUB                                                                                                      1\n",
       "HRASS ELEC COMMU/SAME VICTIM                                                                                          1\n",
       "Name: DISPOSITION_CHARGED_OFFENSE_TITLE, Length: 1649, dtype: int64"
      ]
     },
     "execution_count": 6,
     "metadata": {},
     "output_type": "execute_result"
    }
   ],
   "source": [
    "data['DISPOSITION_CHARGED_OFFENSE_TITLE'].value_counts()"
   ]
  },
  {
   "cell_type": "markdown",
   "metadata": {},
   "source": [
    "DISPOSITION_CHARGED_CLASS has fewer categories, and most of them have many counts."
   ]
  },
  {
   "cell_type": "code",
   "execution_count": 7,
   "metadata": {},
   "outputs": [
    {
     "data": {
      "text/plain": [
       "4    98827\n",
       "2    49710\n",
       "3    37328\n",
       "1    23500\n",
       "A    16334\n",
       "X    13490\n",
       "M     2672\n",
       "B      616\n",
       "C      401\n",
       "Z       67\n",
       "O       21\n",
       "P       18\n",
       "U        3\n",
       "Name: DISPOSITION_CHARGED_CLASS, dtype: int64"
      ]
     },
     "execution_count": 7,
     "metadata": {},
     "output_type": "execute_result"
    }
   ],
   "source": [
    "data['DISPOSITION_CHARGED_CLASS'].value_counts()"
   ]
  },
  {
   "cell_type": "markdown",
   "metadata": {},
   "source": [
    "## Cleaning The Data"
   ]
  },
  {
   "cell_type": "markdown",
   "metadata": {},
   "source": [
    "The data needs to be cleaned...this involves filtering out data rows for which no prison sentence is assigned, and removing columns not used in the model.  You can review the `clean_data` function in `predict.py`."
   ]
  },
  {
   "cell_type": "code",
   "execution_count": 8,
   "metadata": {},
   "outputs": [],
   "source": [
    "# This function remove null values, standardizes spellings of categories, and \n",
    "data = clean_data(orig_data, removeColumns=True)"
   ]
  },
  {
   "cell_type": "markdown",
   "metadata": {},
   "source": [
    "### JSON Schema of cleaned data"
   ]
  },
  {
   "cell_type": "markdown",
   "metadata": {},
   "source": [
    "Each record can be converted to a JSON string using the following syntax:"
   ]
  },
  {
   "cell_type": "code",
   "execution_count": 9,
   "metadata": {},
   "outputs": [
    {
     "name": "stdout",
     "output_type": "stream",
     "text": [
      "{\n",
      "  \"PRIMARY_CHARGE_FLAG\": false,\n",
      "  \"DISPOSITION_CHARGED_OFFENSE_TITLE\": \"FIRST DEGREE MURDER\",\n",
      "  \"CHARGE_COUNT\": 2,\n",
      "  \"DISPOSITION_CHARGED_CLASS\": \"X\",\n",
      "  \"CHARGE_DISPOSITION\": \"Nolle On Remand\",\n",
      "  \"SENTENCE_JUDGE\": \"John  Mannion\",\n",
      "  \"SENTENCE_PHASE\": \"Original Sentencing\",\n",
      "  \"SENTENCE_TYPE\": \"Conversion\",\n",
      "  \"COMMITMENT_TERM\": null,\n",
      "  \"COMMITMENT_UNIT\": null,\n",
      "  \"LENGTH_OF_CASE_in_Days\": 619.0,\n",
      "  \"AGE_AT_INCIDENT\": 27.0,\n",
      "  \"RACE\": \"Black\",\n",
      "  \"GENDER\": \"Male\",\n",
      "  \"INCIDENT_CITY\": null,\n",
      "  \"LAW_ENFORCEMENT_AGENCY\": \"CHICAGO POLICE DEPT\",\n",
      "  \"LAW_ENFORCEMENT_UNIT\": null,\n",
      "  \"UPDATED_OFFENSE_CATEGORY\": \"Homicide\"\n",
      "}\n"
     ]
    }
   ],
   "source": [
    "# JSON of first example\n",
    "json_str = orig_data.iloc[0].to_json()\n",
    "print(json.dumps(json.loads(json_str), indent=2))"
   ]
  },
  {
   "cell_type": "markdown",
   "metadata": {},
   "source": [
    "You can also get the schema of the dataset:"
   ]
  },
  {
   "cell_type": "code",
   "execution_count": 10,
   "metadata": {},
   "outputs": [
    {
     "data": {
      "text/plain": [
       "{'CHARGE_COUNT': 'int64',\n",
       " 'CHARGE_DISPOSITION': 'str',\n",
       " 'UPDATED_OFFENSE_CATEGORY': 'str',\n",
       " 'PRIMARY_CHARGE_FLAG': 'bool',\n",
       " 'DISPOSITION_CHARGED_OFFENSE_TITLE': 'str',\n",
       " 'DISPOSITION_CHARGED_CLASS': 'str',\n",
       " 'SENTENCE_JUDGE': 'str',\n",
       " 'SENTENCE_PHASE': 'str',\n",
       " 'COMMITMENT_TERM': 'str',\n",
       " 'COMMITMENT_UNIT': 'str',\n",
       " 'LENGTH_OF_CASE_in_Days': 'float64',\n",
       " 'AGE_AT_INCIDENT': 'float64',\n",
       " 'RACE': 'str',\n",
       " 'GENDER': 'str',\n",
       " 'INCIDENT_CITY': 'str',\n",
       " 'LAW_ENFORCEMENT_AGENCY': 'str',\n",
       " 'LAW_ENFORCEMENT_UNIT': 'str',\n",
       " 'SENTENCE_TYPE': 'str'}"
      ]
     },
     "execution_count": 10,
     "metadata": {},
     "output_type": "execute_result"
    }
   ],
   "source": [
    "# get data types for each variable\n",
    "orig_data_dtypes = ['str' if str(i) is 'object' else str(i) for i in orig_data[cols].dtypes]\n",
    "dict(zip(cols, orig_data_dtypes))"
   ]
  },
  {
   "cell_type": "markdown",
   "metadata": {},
   "source": [
    "## Building the Sentence Length Model"
   ]
  },
  {
   "cell_type": "markdown",
   "metadata": {},
   "source": [
    "This model forms a classic supervised learning model, with the prison sentence length (COMMITMENT_TERM) as the predicted variable.  More specifically, it is a **regression**, since the predicted variable is a floating point number."
   ]
  },
  {
   "cell_type": "markdown",
   "metadata": {},
   "source": [
    "### Preparing the Data"
   ]
  },
  {
   "cell_type": "code",
   "execution_count": 11,
   "metadata": {},
   "outputs": [],
   "source": [
    "# train test split\n",
    "\n",
    "# the target variable (label) is the value to be predicted\n",
    "target = 'COMMITMENT_TERM'\n",
    "\n",
    "# the label column is removed, leaving only features for x\n",
    "x_data = data.drop(target,axis=1)\n",
    "# and the target defined as the y value\n",
    "y_data = data[target]\n",
    "\n",
    "rng = np.random.RandomState()\n",
    "rs = rng.get_state()\n",
    "\n",
    "# Training and test datasets are generated from the cleaned source data\n",
    "x_train, x_test, y_train, y_test = train_test_split(x_data, y_data, random_state=rng)"
   ]
  },
  {
   "cell_type": "markdown",
   "metadata": {},
   "source": [
    "## Building the Prediction Pipeline"
   ]
  },
  {
   "cell_type": "markdown",
   "metadata": {},
   "source": [
    "A Prediction Pipeline usually consists of transformations upstream from a model, followed by the model to be fit.  It is a convenient way to group the standardized operations associated with model building."
   ]
  },
  {
   "cell_type": "markdown",
   "metadata": {},
   "source": [
    "Categorical Features are almost always transformed into the one hot encoding representation."
   ]
  },
  {
   "cell_type": "code",
   "execution_count": 12,
   "metadata": {},
   "outputs": [],
   "source": [
    "ohe = OneHotEncoder(handle_unknown='ignore')\n",
    "categorical_feats = ('cats', ohe, x_data.select_dtypes('object').columns)\n",
    "feat_trans = ColumnTransformer([categorical_feats], remainder='passthrough')"
   ]
  },
  {
   "cell_type": "markdown",
   "metadata": {},
   "source": [
    "The Model is the `XGBRegresssor`, a gradient boosting algorithm that is known to provide very good prediction performance relative to other algorithms."
   ]
  },
  {
   "cell_type": "code",
   "execution_count": 13,
   "metadata": {},
   "outputs": [],
   "source": [
    "model = XGBRegressor()"
   ]
  },
  {
   "cell_type": "markdown",
   "metadata": {},
   "source": [
    "The pipeline is then easily constructed from the components:"
   ]
  },
  {
   "cell_type": "code",
   "execution_count": 14,
   "metadata": {},
   "outputs": [],
   "source": [
    "feat_transform = ('ct', feat_trans)\n",
    "sentence_model = ('xgb', model)\n",
    "sentence_pipe = Pipeline([feat_transform, sentence_model])"
   ]
  },
  {
   "cell_type": "markdown",
   "metadata": {},
   "source": [
    "## Model Training and Hyperparameter Optimization"
   ]
  },
  {
   "cell_type": "markdown",
   "metadata": {},
   "source": [
    "Every model has two types of parameters:\n",
    "   \n",
    "1) **Parameters** that are optimized, and completely determined by the optimization protocol and dataset.\n",
    "\n",
    "2) **Hyperparameters** - These parameters are important in the definition of the model, but are not subject to any automatic adjustment.\n",
    "            \n",
    "The discovery of optimal hyperparameters often involves interaction between the data scientist and the algorithm, with lots of manual adjustment and application of intuition.  Sometimes, the optimal set of hyperparameters can be easily discovered, while other times it makes more sense to do a systematic and orderly search of hyperparameter combinations.  Fortunately, we have hyperparameter libraries to assist us in this endeavor!"
   ]
  },
  {
   "cell_type": "code",
   "execution_count": 15,
   "metadata": {},
   "outputs": [],
   "source": [
    "from skopt import BayesSearchCV\n",
    "from skopt.callbacks import DeltaYStopper\n",
    "from skopt.space import Real, Categorical, Integer"
   ]
  },
  {
   "cell_type": "markdown",
   "metadata": {},
   "source": [
    "Here, we're going to define some of the hyperparameters to search.  For tree based methods, there are lots of hyperparameters!  "
   ]
  },
  {
   "cell_type": "code",
   "execution_count": 16,
   "metadata": {},
   "outputs": [
    {
     "data": {
      "text/plain": [
       "{'xgb__n_estimators': Integer(low=40, high=600, prior='uniform', transform='identity'),\n",
       " 'xgb__max_depth': Integer(low=3, high=10, prior='uniform', transform='identity'),\n",
       " 'xgb__min_child_weight': Integer(low=1, high=12, prior='uniform', transform='identity'),\n",
       " 'xgb__gamma': (0.0, 500.0),\n",
       " 'xgb__subsample': (0.5, 1),\n",
       " 'xgb__colsample_bytree': (0.5, 1),\n",
       " 'xgb__reg_lambda': (1e-06, 1000000.0, 'log-uniform'),\n",
       " 'xgb__reg_alpha': (1e-05, 10.0, 'log-uniform'),\n",
       " 'xgb__learning_rate': (0.05, 0.3)}"
      ]
     },
     "execution_count": 16,
     "metadata": {},
     "output_type": "execute_result"
    }
   ],
   "source": [
    "# fit HPO\n",
    "# define hyperparameter search space\n",
    "search_space = {} \n",
    "search_space['xgb__n_estimators'] = Integer(40, 600)\n",
    "search_space['xgb__max_depth'] = Integer(3, 10)\n",
    "search_space['xgb__min_child_weight'] = Integer(1,12) \n",
    "search_space['xgb__gamma'] = (0., 500.) # thinking about scale of MSE\n",
    "search_space['xgb__subsample'] = (.5, 1)\n",
    "search_space['xgb__colsample_bytree'] = (.5, 1)\n",
    "search_space['xgb__reg_lambda'] = (1e-6, 1e6, \"log-uniform\")\n",
    "search_space['xgb__reg_alpha'] = (1e-5, 1e1, \"log-uniform\")\n",
    "search_space['xgb__learning_rate'] = (.05, .3)\n",
    "search_space"
   ]
  },
  {
   "cell_type": "markdown",
   "metadata": {},
   "source": [
    "The full search of hyperparameter space can take over 30 min on a typical laptop, so we have provided a pretrained model.  If you want to train your own, set `TRAIN=True`"
   ]
  },
  {
   "cell_type": "code",
   "execution_count": 17,
   "metadata": {},
   "outputs": [],
   "source": [
    "# Train a new model or use existing saved model\n",
    "TRAIN = False # True #"
   ]
  },
  {
   "cell_type": "code",
   "execution_count": 18,
   "metadata": {},
   "outputs": [],
   "source": [
    "# fit model / search for optimal HPs for optimal model config\n",
    "#earlystop = DeltaYStopper(delta=.5,n_best=7)\n",
    "if TRAIN:\n",
    "    hpo = BayesSearchCV(sentence_pipe,\n",
    "                        search_space,\n",
    "                        cv=4,\n",
    "                        scoring = 'neg_mean_squared_error', \n",
    "                        iid=False,\n",
    "                        n_jobs = -1,\n",
    "                        n_iter = 100,\n",
    "                        verbose = 2,\n",
    "                        n_points=6\n",
    "                        ) \n",
    "    %time hpo.fit(x_train, y_train)#, callback=earlystop) # 31 mins"
   ]
  },
  {
   "cell_type": "markdown",
   "metadata": {},
   "source": [
    "Here we load the full set of Hyperparameter searches"
   ]
  },
  {
   "cell_type": "code",
   "execution_count": 19,
   "metadata": {},
   "outputs": [
    {
     "ename": "FileNotFoundError",
     "evalue": "[Errno 2] No such file or directory: '../server/models/bayesHPO_mae1.555.pkl'",
     "output_type": "error",
     "traceback": [
      "\u001b[0;31m---------------------------------------------------------------------------\u001b[0m",
      "\u001b[0;31mFileNotFoundError\u001b[0m                         Traceback (most recent call last)",
      "\u001b[0;32m<ipython-input-19-dc6973f5a3c3>\u001b[0m in \u001b[0;36m<module>\u001b[0;34m\u001b[0m\n\u001b[1;32m      1\u001b[0m \u001b[0;32mif\u001b[0m \u001b[0;32mnot\u001b[0m \u001b[0mTRAIN\u001b[0m\u001b[0;34m:\u001b[0m\u001b[0;34m\u001b[0m\u001b[0;34m\u001b[0m\u001b[0m\n\u001b[1;32m      2\u001b[0m     \u001b[0mHPO_PATH\u001b[0m \u001b[0;34m=\u001b[0m \u001b[0mmodelDirectory\u001b[0m \u001b[0;34m+\u001b[0m \u001b[0;34m'bayesHPO_mae1.555.pkl'\u001b[0m\u001b[0;34m\u001b[0m\u001b[0;34m\u001b[0m\u001b[0m\n\u001b[0;32m----> 3\u001b[0;31m     \u001b[0;32mwith\u001b[0m \u001b[0mopen\u001b[0m\u001b[0;34m(\u001b[0m\u001b[0mHPO_PATH\u001b[0m\u001b[0;34m,\u001b[0m \u001b[0;34m'rb'\u001b[0m\u001b[0;34m)\u001b[0m \u001b[0;32mas\u001b[0m \u001b[0mf\u001b[0m\u001b[0;34m:\u001b[0m\u001b[0;34m\u001b[0m\u001b[0;34m\u001b[0m\u001b[0m\n\u001b[0m\u001b[1;32m      4\u001b[0m         \u001b[0mhpo\u001b[0m \u001b[0;34m=\u001b[0m \u001b[0mpickle\u001b[0m\u001b[0;34m.\u001b[0m\u001b[0mload\u001b[0m\u001b[0;34m(\u001b[0m\u001b[0mf\u001b[0m\u001b[0;34m)\u001b[0m\u001b[0;34m\u001b[0m\u001b[0;34m\u001b[0m\u001b[0m\n",
      "\u001b[0;31mFileNotFoundError\u001b[0m: [Errno 2] No such file or directory: '../server/models/bayesHPO_mae1.555.pkl'"
     ]
    }
   ],
   "source": [
    "if not TRAIN:\n",
    "    HPO_PATH = modelDirectory + 'bayesHPO_mae1.555.pkl'\n",
    "    with open(HPO_PATH, 'rb') as f:\n",
    "        hpo = pickle.load(f)"
   ]
  },
  {
   "cell_type": "markdown",
   "metadata": {},
   "source": [
    "We'll pick the best model of the group and use that one for our predictions.  Let's look at the hyperparameter combo that gave the best model:"
   ]
  },
  {
   "cell_type": "code",
   "execution_count": null,
   "metadata": {},
   "outputs": [],
   "source": [
    "# Access prediction pipeline with optimal hyperparameters\n",
    "sentence_pipe = hpo.best_estimator_ \n",
    "val_score = hpo.best_score_\n",
    "display(hpo.best_params_)\n",
    "preds = sentence_pipe.predict(x_test)\n",
    "test_score = hpo.scorer_._score_func(y_test, preds)\n",
    "print('MSE:',test_score)"
   ]
  },
  {
   "cell_type": "markdown",
   "metadata": {},
   "source": [
    "Some of the parameters might have been intuitive, like the depth of the tree, for example, being at the higher setting.  But others are not entirely intuitive, and a systematic search really is much better, even if it does take much longer."
   ]
  },
  {
   "cell_type": "markdown",
   "metadata": {},
   "source": [
    "## Evaluate Accuracy and Serialize Model"
   ]
  },
  {
   "cell_type": "markdown",
   "metadata": {},
   "source": [
    "Typical fitness measures for regression are reported here (Mean Absolute Error and Correlation Coefficient)"
   ]
  },
  {
   "cell_type": "code",
   "execution_count": null,
   "metadata": {},
   "outputs": [],
   "source": [
    "# evaluate accuracy\n",
    "mae = mean_absolute_error(y_test, preds)\n",
    "r2 = r2_score(y_test, preds)\n",
    "print('Mean Absolute Error:',mae)\n",
    "print('Fraction of total target variance accounted for (r^2):', r2)"
   ]
  },
  {
   "cell_type": "markdown",
   "metadata": {},
   "source": [
    "## Saving Model as a `pkl` file"
   ]
  },
  {
   "cell_type": "code",
   "execution_count": null,
   "metadata": {},
   "outputs": [],
   "source": [
    "# pickle sentence length pipeline obj\n",
    "if TRAIN:\n",
    "    PIPE = sentence_pipe\n",
    "    ts = dt.datetime.now().strftime('%Y-%m-%d_%Hh%Mm%Ss')\n",
    "    name_pipe = f'../saved_models/sentence_pipe_mae{round(mae,3)}_{ts}'\n",
    "    with open(name_pipe+'.pkl', 'wb') as f:\n",
    "        pickle.dump(PIPE, f, -1)"
   ]
  },
  {
   "cell_type": "code",
   "execution_count": null,
   "metadata": {},
   "outputs": [],
   "source": [
    "# pickle HPO obj\n",
    "if TRAIN:\n",
    "    HPO = hpo\n",
    "    #ts = dt.datetime.now().strftime('%Y-%m-%d_%Hh%Mm%Ss')\n",
    "    #name=name_pipe.replace('sentence_pipe', 'bayesHPO')\n",
    "    name = f'../saved_models/bayesHPO_mae{round(mae,3)}'\n",
    "    with open(name+'.pkl', 'wb') as f:\n",
    "        pickle.dump(HPO, f, -1)"
   ]
  },
  {
   "cell_type": "code",
   "execution_count": null,
   "metadata": {},
   "outputs": [],
   "source": [
    "res = hpo.optimizer_results_[0]"
   ]
  },
  {
   "cell_type": "code",
   "execution_count": null,
   "metadata": {},
   "outputs": [],
   "source": [
    "Hyperparameters and their Impact on Model Performance. "
   ]
  },
  {
   "cell_type": "markdown",
   "metadata": {},
   "source": [
    "The following plot shows the importance of various hyperparameters on model performance.  The objective function is the function that is optimized, so it is naturally highly correlated (and in fact not a hyperparameter).  The most correlated paraemter is $\\lambda$, the regularization parameter.  Note that there is a \"sweet spot\" for $\\lambda$, as it is neither close to the minimum or maximum value."
   ]
  },
  {
   "cell_type": "code",
   "execution_count": null,
   "metadata": {},
   "outputs": [],
   "source": [
    "df = pd.DataFrame(res['x_iters'],columns=[i for i in hpo.best_params_])\n",
    "df = df.assign(objective=res['func_vals'])\n",
    "sns.heatmap(df.corr().loc[: ,['objective']],annot=True, center=0)\n",
    "plt.title('Correlations of Hyperparameters to Model Performace')"
   ]
  },
  {
   "cell_type": "markdown",
   "metadata": {},
   "source": [
    "## Evaluate Error Distribution and Plots"
   ]
  },
  {
   "cell_type": "markdown",
   "metadata": {},
   "source": [
    "A quick summary plot of values and predictions can give us an idea as to how the model is performing over the range of predicted values."
   ]
  },
  {
   "cell_type": "code",
   "execution_count": null,
   "metadata": {},
   "outputs": [],
   "source": [
    "# distribution of target and predictions in test set \n",
    "plt.hist(y_test, bins=40, alpha=.3, label='Actual')\n",
    "plt.hist(preds, bins=40, alpha=.3, label='Predicted')\n",
    "plt.legend()\n",
    "plt.show()"
   ]
  },
  {
   "cell_type": "code",
   "execution_count": null,
   "metadata": {},
   "outputs": [],
   "source": [
    "error = y_test - preds"
   ]
  },
  {
   "cell_type": "markdown",
   "metadata": {},
   "source": [
    "A quick look at the distribution of errors reveals that the errors in predictions seem to be more around African Americans.  In fact, there are just many more African Americans in the dataset, and the error seems to be distributed symmetrically and about the prediction.  "
   ]
  },
  {
   "cell_type": "code",
   "execution_count": null,
   "metadata": {},
   "outputs": [],
   "source": [
    "factor = 'RACE' # 'DISPOSITION_CHARGED_CLASS' #  \n",
    "sns.scatterplot(preds, error, alpha=.5, hue=x_test[factor].values)\n",
    "plt.axhline(0, ls='--', c='orange')\n",
    "plt.title('Predictions vs Error')\n",
    "plt.xlabel('Predicted Values')\n",
    "plt.ylabel('Error')\n",
    "plt.show()"
   ]
  },
  {
   "cell_type": "code",
   "execution_count": null,
   "metadata": {},
   "outputs": [],
   "source": [
    "print('Race Distribution in Test Data')\n",
    "x_test.groupby('RACE').size()/x_test.shape[0]"
   ]
  },
  {
   "cell_type": "markdown",
   "metadata": {},
   "source": [
    "We see here that the 74% of the people in the dataset are African American."
   ]
  },
  {
   "cell_type": "code",
   "execution_count": null,
   "metadata": {},
   "outputs": [],
   "source": [
    "plt.scatter(x_test['RACE'], error)\n",
    "plt.title('Error Distributions by Race')\n",
    "plt.ylim([60,-60])\n",
    "# there are are some BIG outliers (90 years off the correct prediction....)"
   ]
  },
  {
   "cell_type": "markdown",
   "metadata": {},
   "source": [
    "Errors for Black people are larger, however they are the largest share of \n",
    "the sample.  \n",
    "\n",
    "Are the larger errors for black people a natural result of their over representation in the data? or does it mean I am missing distinguishing features among black people?"
   ]
  },
  {
   "cell_type": "markdown",
   "metadata": {},
   "source": [
    "## Building a Racial discrepancy evaluator\n",
    "\n",
    "Using the theoretical approach of https://github.com/IBM/causallib/blob/master/examples/standardization.ipynb\n",
    "which follows https://www.hsph.harvard.edu/miguel-hernan/causal-inference-book/"
   ]
  },
  {
   "cell_type": "markdown",
   "metadata": {},
   "source": [
    "We're going to introduce the notion of a counterfactual race, which simply means that we will take a person, or feature list, and holding all other fetures constant, will take the counter of the race.  A map of \"opposite\" races is listed below."
   ]
  },
  {
   "cell_type": "code",
   "execution_count": 89,
   "metadata": {},
   "outputs": [
    {
     "name": "stdout",
     "output_type": "stream",
     "text": [
      "def make_counterfactual(data):\n",
      "    '''Take data and switch race variable to \"opposite\" value'''\n",
      "    # white --> black\n",
      "    # non-white --> white\n",
      "    race_counterfactual_map = \\\n",
      "        {'Black': 'White',\n",
      "         'White': 'Black',\n",
      "         'HISPANIC': 'White',\n",
      "         'Asian': 'White',\n",
      "         'American Indian': 'White'}\n",
      "\n",
      "    data_counterfactual = data.copy()\n",
      "    data_counterfactual['RACE'] = data['RACE'].map(race_counterfactual_map)\n",
      "    return data_counterfactual\n",
      "\n"
     ]
    }
   ],
   "source": [
    "from predict import make_counterfactual\n",
    "print(inspect.getsource(make_counterfactual))"
   ]
  },
  {
   "cell_type": "markdown",
   "metadata": {},
   "source": [
    "The discrepancy estimate then, is simply the difference between the predicted sentence of a person of a given race (based on historical data), and the predicted sentence of a person with *only the race* modified to a counterfactual state. "
   ]
  },
  {
   "cell_type": "code",
   "execution_count": 90,
   "metadata": {},
   "outputs": [
    {
     "name": "stdout",
     "output_type": "stream",
     "text": [
      "def estimate_discrepancy(model, data, return_pred=False):\n",
      "    '''\n",
      "    Estimate discrepancy in sentence length if race were switched.\n",
      "    \n",
      "    The discrepancy estimate represents # of additional years to which the\n",
      "    actual profile would be sentenced over the counterfactual profile. A \n",
      "    positive discrepancy means that the actual race would recieve a \n",
      "    harsher sentence than the counterfactual race.\n",
      "\n",
      "    Params:\n",
      "        return_pred: (bool) if True, returns a tuple of \n",
      "            (descrepancy, prediction), otherwise just returns descrepancy\n",
      "\n",
      "    Returns:\n",
      "        discrepancy is a 1-d numpy array\n",
      "    '''\n",
      "    pred = model.predict(data)\n",
      "    diff = pred - model.predict(make_counterfactual(data))\n",
      "    if return_pred:\n",
      "        return diff, pred\n",
      "\n",
      "    return diff\n",
      "\n"
     ]
    }
   ],
   "source": [
    "# display discrepancy calculation code\n",
    "from predict import estimate_discrepancy\n",
    "print(inspect.getsource(estimate_discrepancy))"
   ]
  },
  {
   "cell_type": "markdown",
   "metadata": {},
   "source": [
    "This is an important number, and the one which we use to quantify what is termed racial bias in prison sentencing.  Let's save these numbers in our data folder"
   ]
  },
  {
   "cell_type": "code",
   "execution_count": 175,
   "metadata": {},
   "outputs": [],
   "source": [
    "rng.set_state(rs) # reset random state for replicable split\n",
    "x_train, x_test = train_test_split(x_data, random_state=rng)"
   ]
  },
  {
   "cell_type": "code",
   "execution_count": 176,
   "metadata": {},
   "outputs": [],
   "source": [
    "import json"
   ]
  },
  {
   "cell_type": "code",
   "execution_count": 177,
   "metadata": {},
   "outputs": [],
   "source": [
    "discrepancy = estimate_discrepancy(sentence_pipe, x_test)\n",
    "discrepancy_s = pd.Series(discrepancy)"
   ]
  },
  {
   "cell_type": "code",
   "execution_count": 178,
   "metadata": {},
   "outputs": [],
   "source": [
    "# calculate as percent of (estimated?) sentence\n",
    "percent_discrepancy = (discrepancy/y_test) * 100\n",
    "#percent_discrepancy = (discrepancy/preds) * 100"
   ]
  },
  {
   "cell_type": "code",
   "execution_count": 179,
   "metadata": {},
   "outputs": [],
   "source": [
    "# drop cases where sentence lenght is 0 for now\n",
    "mask = (y_test == 0)\n",
    "discrepancy = discrepancy[~mask.values]\n",
    "percent_discrepancy = percent_discrepancy[~mask.values]"
   ]
  },
  {
   "cell_type": "code",
   "execution_count": 188,
   "metadata": {},
   "outputs": [],
   "source": [
    "# save list of test discrepancies, to evaluate percentile discrepancy in runtime data\n",
    "if TRAIN:\n",
    "    # include some indicator of how/where the train/test split was made?\n",
    "    with open(dataDir + 'test_data_percentage_discrepancies.json', 'w') as f:\n",
    "        json.dump(percent_discrepancy.tolist(), f)"
   ]
  },
  {
   "cell_type": "markdown",
   "metadata": {},
   "source": [
    "## Exploring Racial Discrepancies in Sentencing"
   ]
  },
  {
   "cell_type": "code",
   "execution_count": 189,
   "metadata": {},
   "outputs": [
    {
     "data": {
      "text/html": [
       "<div>\n",
       "<style scoped>\n",
       "    .dataframe tbody tr th:only-of-type {\n",
       "        vertical-align: middle;\n",
       "    }\n",
       "\n",
       "    .dataframe tbody tr th {\n",
       "        vertical-align: top;\n",
       "    }\n",
       "\n",
       "    .dataframe thead th {\n",
       "        text-align: right;\n",
       "    }\n",
       "</style>\n",
       "<table border=\"1\" class=\"dataframe\">\n",
       "  <thead>\n",
       "    <tr style=\"text-align: right;\">\n",
       "      <th></th>\n",
       "      <th>count</th>\n",
       "      <th>mean</th>\n",
       "      <th>std</th>\n",
       "      <th>min</th>\n",
       "      <th>25%</th>\n",
       "      <th>50%</th>\n",
       "      <th>75%</th>\n",
       "      <th>max</th>\n",
       "    </tr>\n",
       "    <tr>\n",
       "      <th>RACE</th>\n",
       "      <th></th>\n",
       "      <th></th>\n",
       "      <th></th>\n",
       "      <th></th>\n",
       "      <th></th>\n",
       "      <th></th>\n",
       "      <th></th>\n",
       "      <th></th>\n",
       "    </tr>\n",
       "  </thead>\n",
       "  <tbody>\n",
       "    <tr>\n",
       "      <th>American Indian</th>\n",
       "      <td>12.0</td>\n",
       "      <td>3.371895</td>\n",
       "      <td>22.079713</td>\n",
       "      <td>-54.632282</td>\n",
       "      <td>-1.314514</td>\n",
       "      <td>6.662697</td>\n",
       "      <td>15.625513</td>\n",
       "      <td>34.002511</td>\n",
       "    </tr>\n",
       "    <tr>\n",
       "      <th>Asian</th>\n",
       "      <td>112.0</td>\n",
       "      <td>-10.870258</td>\n",
       "      <td>22.970013</td>\n",
       "      <td>-172.037179</td>\n",
       "      <td>-18.407279</td>\n",
       "      <td>-5.740355</td>\n",
       "      <td>1.049657</td>\n",
       "      <td>31.741822</td>\n",
       "    </tr>\n",
       "    <tr>\n",
       "      <th>Black</th>\n",
       "      <td>23009.0</td>\n",
       "      <td>3.748394</td>\n",
       "      <td>120.177733</td>\n",
       "      <td>-10108.253002</td>\n",
       "      <td>-0.000584</td>\n",
       "      <td>4.387558</td>\n",
       "      <td>11.124182</td>\n",
       "      <td>7303.034484</td>\n",
       "    </tr>\n",
       "    <tr>\n",
       "      <th>HISPANIC</th>\n",
       "      <td>4601.0</td>\n",
       "      <td>-4.262972</td>\n",
       "      <td>20.071296</td>\n",
       "      <td>-355.931854</td>\n",
       "      <td>-6.131738</td>\n",
       "      <td>-0.912074</td>\n",
       "      <td>2.391362</td>\n",
       "      <td>144.117856</td>\n",
       "    </tr>\n",
       "    <tr>\n",
       "      <th>White</th>\n",
       "      <td>3245.0</td>\n",
       "      <td>-7.243690</td>\n",
       "      <td>20.725349</td>\n",
       "      <td>-384.080315</td>\n",
       "      <td>-9.855700</td>\n",
       "      <td>-3.649616</td>\n",
       "      <td>0.786293</td>\n",
       "      <td>84.757757</td>\n",
       "    </tr>\n",
       "  </tbody>\n",
       "</table>\n",
       "</div>"
      ],
      "text/plain": [
       "                   count       mean         std           min        25%  \\\n",
       "RACE                                                                       \n",
       "American Indian     12.0   3.371895   22.079713    -54.632282  -1.314514   \n",
       "Asian              112.0 -10.870258   22.970013   -172.037179 -18.407279   \n",
       "Black            23009.0   3.748394  120.177733 -10108.253002  -0.000584   \n",
       "HISPANIC          4601.0  -4.262972   20.071296   -355.931854  -6.131738   \n",
       "White             3245.0  -7.243690   20.725349   -384.080315  -9.855700   \n",
       "\n",
       "                      50%        75%          max  \n",
       "RACE                                               \n",
       "American Indian  6.662697  15.625513    34.002511  \n",
       "Asian           -5.740355   1.049657    31.741822  \n",
       "Black            4.387558  11.124182  7303.034484  \n",
       "HISPANIC        -0.912074   2.391362   144.117856  \n",
       "White           -3.649616   0.786293    84.757757  "
      ]
     },
     "execution_count": 189,
     "metadata": {},
     "output_type": "execute_result"
    }
   ],
   "source": [
    "# SOME HUGE outliers in percent discrepancy\n",
    "percent_discrepancy_s = pd.Series(percent_discrepancy)\n",
    "percent_discrepancy_s.groupby(x_test['RACE']).describe()\n",
    "\n",
    "#"
   ]
  },
  {
   "cell_type": "markdown",
   "metadata": {},
   "source": [
    " This appears to be a case where the 50th% percentile (i.e. median) is more informative than the mean (bc of the outliers)\n",
    "\n",
    "We can say that, most of the time, black people are treated btw 2% less harshly and 16% more harshly than white people and white people are treated btw 14% less harshly and 4% more harshly than black people."
   ]
  },
  {
   "cell_type": "code",
   "execution_count": 190,
   "metadata": {},
   "outputs": [
    {
     "data": {
      "text/plain": [
       "[Text(0.5, 1.0, 'Average Percent Racial Sentencing Discrepancy by Race')]"
      ]
     },
     "execution_count": 190,
     "metadata": {},
     "output_type": "execute_result"
    },
    {
     "data": {
      "image/png": "[encoded data removed]",
      "text/plain": [
       "<Figure size 432x288 with 1 Axes>"
      ]
     },
     "metadata": {
      "needs_background": "light"
     },
     "output_type": "display_data"
    }
   ],
   "source": [
    "# distribution of positive discrepancies\n",
    "percent_discrepancy_by_race = percent_discrepancy_s.groupby(x_test['RACE']).mean()\n",
    "ax = sns.barplot(x=x_test['RACE'], y=percent_discrepancy_s, estimator=np.median)\n",
    "ax.set(title='Average Percent Racial Sentencing Discrepancy by Race')\n",
    "\n",
    "# result: interesting that hispanic appears to be sentenced less harshly than white"
   ]
  },
  {
   "cell_type": "code",
   "execution_count": 191,
   "metadata": {},
   "outputs": [
    {
     "data": {
      "text/plain": [
       "Text(0.5, 1.0, 'Distribution of Racial Discrepancies by Race')"
      ]
     },
     "execution_count": 191,
     "metadata": {},
     "output_type": "execute_result"
    },
    {
     "data": {
      "image/png": "[encoded data removed]",
      "text/plain": [
       "<Figure size 432x288 with 1 Axes>"
      ]
     },
     "metadata": {
      "needs_background": "light"
     },
     "output_type": "display_data"
    }
   ],
   "source": [
    "sns.boxplot(x=x_test['RACE'], y=percent_discrepancy_s)\n",
    "plt.ylim([80, -80])\n",
    "plt.title('Distribution of Racial Discrepancies by Race')"
   ]
  },
  {
   "cell_type": "markdown",
   "metadata": {},
   "source": [
    "## Feature Importance with respect to Sentence Length"
   ]
  },
  {
   "cell_type": "code",
   "execution_count": 100,
   "metadata": {},
   "outputs": [],
   "source": [
    "import re"
   ]
  },
  {
   "cell_type": "code",
   "execution_count": 106,
   "metadata": {},
   "outputs": [],
   "source": [
    "# per level on categoricals\n",
    "\n",
    "# subclass the ColumnTransformer instead?\n",
    "def get_feature_names(ohe_name, column_transformer, delim='_*_'):\n",
    "    '''\n",
    "    Get feature names that include factor names, from a ColumnTransformer \n",
    "    containing a onehot encoder. Builtin get_feature_names() \n",
    "    method  (ver 0.23) only includes factor column index. \n",
    "\n",
    "    Params:\n",
    "        ohe_name: (str) name of OneHotEncoder obj in .transformers_ of ColumnTransformer\n",
    "    '''\n",
    "    cols = column_transformer.get_feature_names()\n",
    "    \n",
    "    \n",
    "    \n",
    "    # col index for onehot encoder named 'cats'\n",
    "    cats_cols = {i[0]:i[2] for i in column_transformer.transformers_}['cats']\n",
    "    # replace x0, x1, etx with original col names\n",
    "    cats_idx = [re.findall(ohe_name + r'__x(\\d)_', label) for label in cols]\n",
    "    fixed_cols = [re.sub(ohe_name + r'__(x\\d)_', cats_cols[int(cat_i[0])]+delim, cols[i]) if cat_i else cols[i] for i, cat_i in enumerate(cats_idx)] \n",
    "    # Alt:\n",
    "    #cats_level_cols = column_transformer.named_transformers_[ohe_name].get_feature_names(input_features=cats_cols)\n",
    "    #cats_idx = [i for i, c in enumerate(cols) if c.startswith(ohe_name + r'__')]\n",
    "    #fixed_cols=cols.copy()\n",
    "    #for i, cats_i in enumerate(cats_idx):\n",
    "    #    fixed_cols[cats_i] = cats_level_cols[i]\n",
    "\n",
    "    return fixed_cols\n",
    "\n",
    "\n",
    "col_names = get_feature_names('cats', sentence_pipe['ct'])"
   ]
  },
  {
   "cell_type": "code",
   "execution_count": 108,
   "metadata": {},
   "outputs": [],
   "source": [
    "## Get normalized feature imp dict and series\n",
    "\n",
    "bst = sentence_pipe['xgb'].get_booster() # name changed to 'xgb' in retrain\n",
    "# remove brackets in col names bc they break xgb feature importance code\n",
    "col_names_clean =  [re.sub(r'[\\[\\]]', '\\~', i) for i in col_names]\n",
    "default_feat_names = bst.feature_names.copy()\n",
    "\n",
    "importance_type = 'gain' # 'weight' # 'total_gain' #  \n",
    "bst.feature_names = col_names_clean \n",
    "feat_imps_d = bst.get_score(importance_type=importance_type)\n",
    "# reset feature names bc defaults to validate_features=True in sklearn xgb api for .predict() \n",
    "# but doesn't allow for feature names for newdate to be set during predit() \n",
    "bst.feature_names=default_feat_names\n",
    "# add in zero importance features\n",
    "feat_imps_d = {n:feat_imps_d.get(n, 0) for n in col_names_clean}\n",
    "# make feat imps sum to 1000\n",
    "total = sum(feat_imps_d.values())\n",
    "feat_imps_d_norm = {k:round((v/total)*1000,3) for k,v in feat_imps_d.items()} \n",
    "feat_imps_s = pd.Series(feat_imps_d_norm).sort_values()[::-1]"
   ]
  },
  {
   "cell_type": "markdown",
   "metadata": {},
   "source": [
    "Here we generate a plot of of the importance of each feature in determining sentence length:"
   ]
  },
  {
   "cell_type": "code",
   "execution_count": 109,
   "metadata": {},
   "outputs": [
    {
     "data": {
      "text/plain": [
       "Text(0.5, 1.0, 'Feature importance at the Category Level (top 20)')"
      ]
     },
     "execution_count": 109,
     "metadata": {},
     "output_type": "execute_result"
    },
    {
     "data": {
      "image/png": "[encoded data removed]",
      "text/plain": [
       "<Figure size 648x1080 with 1 Axes>"
      ]
     },
     "metadata": {
      "needs_background": "light"
     },
     "output_type": "display_data"
    }
   ],
   "source": [
    "# highly informative:\n",
    "# * Primary charge flag is highly influential... should I remove non-primary charges... \n",
    "# because the sentence won't be \"primarilly\" driven by that? # EXPLORE check that primary flag \n",
    "# is associated with longer sentences?\n",
    "# * being black is a discriminative feature, so are several serious crimes, as well as how you got to be convicted.\n",
    "# * gain vs wt or total gain brings in MALE and several judges names... but drops race...\n",
    "# * 'gain' also shows that age at incident and charge count are only there because they are high cardinality\n",
    "\n",
    "# * Class M (first degree murder) and the highest felony class are predictive, interestingly the lowest class of \n",
    "# felony is also predictive, maybe because it is a discontinuity in sentencing from the most severe misdemeanor.\n",
    "#* and it will be interesting to see the distributions of the judges and police departments\n",
    "\n",
    "\n",
    "# do EDA on distributions of target on Nolle prosecution, and mental health\n",
    "\n",
    "# charge count is almost certainly inflated because it is a contiuous variable\n",
    "\n",
    "# do EDA on the shape of the relationship between target and influential vars\n",
    " \n",
    "xgb.plot_importance(feat_imps_d_norm, max_num_features=20,\n",
    "                xlabel='Importance Metric',\n",
    "                   )\n",
    "plt.gcf().set_size_inches(9,15)\n",
    "plt.title('Feature importance at the Category Level (top 20)')"
   ]
  },
  {
   "cell_type": "code",
   "execution_count": 110,
   "metadata": {},
   "outputs": [],
   "source": [
    "from sklearn.inspection import permutation_importance"
   ]
  },
  {
   "cell_type": "code",
   "execution_count": 111,
   "metadata": {},
   "outputs": [
    {
     "name": "stdout",
     "output_type": "stream",
     "text": [
      "CPU times: user 3.58 s, sys: 414 ms, total: 4 s\n",
      "Wall time: 1min 21s\n"
     ]
    }
   ],
   "source": [
    "%%time\n",
    "res=permutation_importance(sentence_pipe, x_test, y_test, scoring='neg_mean_squared_error', n_jobs=-1)"
   ]
  },
  {
   "cell_type": "markdown",
   "metadata": {},
   "source": [
    "While the plot above is beginning to home in on our questions, it focuses on the importance of features at particular values.  Here we will study each feature and its importance in determining sentence length."
   ]
  },
  {
   "cell_type": "code",
   "execution_count": 112,
   "metadata": {},
   "outputs": [
    {
     "name": "stdout",
     "output_type": "stream",
     "text": [
      "CPU times: user 45.2 ms, sys: 4.54 ms, total: 49.7 ms\n",
      "Wall time: 48.5 ms\n"
     ]
    },
    {
     "data": {
      "text/plain": [
       "Text(0.5, 1.0, 'Feature Importance at the Variable Level')"
      ]
     },
     "execution_count": 112,
     "metadata": {},
     "output_type": "execute_result"
    },
    {
     "data": {
      "image/png": "[encoded data removed]",
      "text/plain": [
       "<Figure size 648x360 with 1 Axes>"
      ]
     },
     "metadata": {
      "needs_background": "light"
     },
     "output_type": "display_data"
    }
   ],
   "source": [
    "%%time\n",
    "perm_factor_imps = dict(zip(x_train.columns, res.importances_mean))\n",
    "xgb.plot_importance(perm_factor_imps,\n",
    "                xlabel='Permutation Importance Metric'\n",
    "                   )\n",
    "plt.gcf().set_size_inches(9,5)\n",
    "plt.title('Feature Importance at the Variable Level')\n",
    "\n",
    "# We can see the order is pretty significantly different than the aggregation above, \n",
    "# particularly, Charge_Coun (one of the two continuous features) is second above when \n",
    "# it is below 50th% in the permutation imp"
   ]
  },
  {
   "cell_type": "markdown",
   "metadata": {},
   "source": [
    "Race undoubtedly plays a role in determining sentence length, but other more prominent descriptors are still stronger determinants.  This is not to say that profound differences don't exist between sentences when *all other features are equal*.  This is the disparity calculation as discussed previously."
   ]
  },
  {
   "cell_type": "markdown",
   "metadata": {},
   "source": [
    "## Looking at Correlations Between Features\n",
    "Highly correlated features will have deflated feature importances. It is both interesting to know what features are correlated, as well as important to context for reading the feature importances."
   ]
  },
  {
   "cell_type": "code",
   "execution_count": 113,
   "metadata": {},
   "outputs": [],
   "source": [
    "from sklearn.feature_selection import f_classif, f_regression, chi2\n",
    "from scipy.stats import pearsonr, chi2_contingency\n",
    "import itertools\n",
    "import statsmodels.api as sm\n",
    "from dython.nominal import cramers_v, correlation_ratio\n"
   ]
  },
  {
   "cell_type": "markdown",
   "metadata": {},
   "source": [
    "We actually have some nontrivial analyses that need to be considered when looking at all of this categorical data.\n",
    "\n",
    "**2 kinds of features**: numeric and categorical  \n",
    "**3 kinds of relations**: numeric-numeric, numeric-categorical, categorical-categorical  \n",
    "**3 kinds of measures of association**: Pearson r Correlation, Corrlelation Ratio, Cramer's V  \n",
    "Reference: https://towardsdatascience.com/the-search-for-categorical-correlation-a1cf7f1888c9"
   ]
  },
  {
   "cell_type": "code",
   "execution_count": 114,
   "metadata": {},
   "outputs": [],
   "source": [
    "def dtype_mapper(key):\n",
    "    key = str(key)\n",
    "    if key=='object':return 'cat'\n",
    "    elif key=='bool': return 'cat'\n",
    "    elif key.startswith('int'): return 'num'\n",
    "    elif key.startswith('float'): return 'num'\n",
    "    else:\n",
    "        raise ValueError(f'unanticipated type: {key}')\n",
    "        \n",
    "def split_dtypes(df):\n",
    "    by_type = df.dtypes.map(dtype_mapper)\n",
    "    cols_by_type = by_type.groupby(by_type).apply(lambda s: s.index.to_list()).to_dict()\n",
    "    return cols_by_type\n"
   ]
  },
  {
   "cell_type": "code",
   "execution_count": 115,
   "metadata": {},
   "outputs": [
    {
     "data": {
      "text/plain": [
       "{'cat': ['PRIMARY_CHARGE_FLAG',\n",
       "  'DISPOSITION_CHARGED_OFFENSE_TITLE',\n",
       "  'DISPOSITION_CHARGED_CLASS',\n",
       "  'CHARGE_DISPOSITION',\n",
       "  'SENTENCE_JUDGE',\n",
       "  'SENTENCE_PHASE',\n",
       "  'RACE',\n",
       "  'GENDER',\n",
       "  'LAW_ENFORCEMENT_AGENCY',\n",
       "  'UPDATED_OFFENSE_CATEGORY'],\n",
       " 'num': ['CHARGE_COUNT', 'COMMITMENT_TERM', 'AGE_AT_INCIDENT']}"
      ]
     },
     "execution_count": 115,
     "metadata": {},
     "output_type": "execute_result"
    }
   ],
   "source": [
    "split_dtypes(data)"
   ]
  },
  {
   "cell_type": "code",
   "execution_count": 116,
   "metadata": {},
   "outputs": [],
   "source": [
    "def fill_mat(rows, cols, pairs, metric):\n",
    "    '''\n",
    "    Utility to populate matrix cell-wise given combinations \n",
    "    of the names of variables from two lists and a pairwise metric.\n",
    "    '''\n",
    "    df = pd.DataFrame(index=rows, columns=cols, dtype='float')\n",
    "    for i, j  in pairs:\n",
    "        # data is a global var\n",
    "        res = metric(data[i], data[j])\n",
    "        df.loc[i, j] = res \n",
    "    return df.T # transpose for lower triangle\n",
    "\n",
    "\n",
    "def get_associations(data):\n",
    "    '''\n",
    "    Get association matrix for each the 3 kinds of variable relations.\n",
    "    '''\n",
    "\n",
    "    cols_by_type = split_dtypes(data)\n",
    "\n",
    "    # 'cat2cat': \n",
    "    metric = cramers_v\n",
    "    rows = cols_by_type['cat']\n",
    "    cols = cols_by_type['cat']\n",
    "    pairs = itertools.combinations(cols, 2)\n",
    "    cat2cat = fill_mat(rows, cols, pairs, metric)\n",
    "\n",
    "\n",
    "    #cat2num\n",
    "    metric = correlation_ratio # must take (cat var, num var) as first two args\n",
    "    rows = cols_by_type['cat']\n",
    "    cols = cols_by_type['num']\n",
    "    pairs = itertools.product(rows, cols) \n",
    "    cat2num = fill_mat(rows, cols, pairs, metric)\n",
    "\n",
    "    #num2num\n",
    "    corr = data.corr()\n",
    "    mask = np.triu(np.ones_like(corr, dtype=np.bool)) # upper triangle is True\n",
    "    num2num = corr.mask(mask, np.nan)\n",
    "\n",
    "\n",
    "    dfs = {'num2num': num2num, 'cat2num': cat2num, 'cat2cat': cat2cat}\n",
    "\n",
    "    return dfs"
   ]
  },
  {
   "cell_type": "code",
   "execution_count": 117,
   "metadata": {},
   "outputs": [
    {
     "name": "stdout",
     "output_type": "stream",
     "text": [
      "CPU times: user 8.15 s, sys: 608 ms, total: 8.76 s\n",
      "Wall time: 8.81 s\n"
     ]
    }
   ],
   "source": [
    "%%time\n",
    "dfs = get_associations(data)"
   ]
  },
  {
   "cell_type": "code",
   "execution_count": 118,
   "metadata": {},
   "outputs": [],
   "source": [
    "def plot_associations(dfs):\n",
    "    '''\n",
    "    plot the association matrices returned by get_associations()\n",
    "    '''\n",
    "    for name, df in dfs.items():\n",
    "        ax = sns.heatmap(df, annot=True, cmap=None, vmin=-1, vmax=1, center=0,\n",
    "                    square=False, linewidths=.5, fmt='.2f')\n",
    "        ax.set(title=name)\n",
    "        if name == 'cat2num':\n",
    "            ax.set(xlabel='Categorical Variables', ylabel='Numeric Variables')\n",
    "        plt.show()"
   ]
  },
  {
   "cell_type": "code",
   "execution_count": 119,
   "metadata": {},
   "outputs": [
    {
     "data": {
      "image/png": "[encoded data removed]",
      "text/plain": [
       "<Figure size 432x288 with 2 Axes>"
      ]
     },
     "metadata": {
      "needs_background": "light"
     },
     "output_type": "display_data"
    },
    {
     "data": {
      "image/png": "[encoded data removed]",
      "text/plain": [
       "<Figure size 432x288 with 2 Axes>"
      ]
     },
     "metadata": {
      "needs_background": "light"
     },
     "output_type": "display_data"
    },
    {
     "data": {
      "image/png": "[encoded data removed]",
      "text/plain": [
       "<Figure size 432x288 with 2 Axes>"
      ]
     },
     "metadata": {
      "needs_background": "light"
     },
     "output_type": "display_data"
    }
   ],
   "source": [
    "plot_associations(dfs)"
   ]
  },
  {
   "cell_type": "markdown",
   "metadata": {},
   "source": [
    "The correlations shown reveal possible redundancies in the information that the data is providing.  For example, the DISPOSITION_CHARGED_OFFENSE and UPDATED_OFFENSE_CATEGORY are highly correlated (0.71), which suggests that these features tell much of the same story with regard to the particular person.  There are many techniques to remediate this, including orthogonalization (for numerical data), but not as much for mixed categorical and numerical sets."
   ]
  },
  {
   "cell_type": "markdown",
   "metadata": {},
   "source": [
    "## Limitations and Future Work\n"
   ]
  },
  {
   "cell_type": "markdown",
   "metadata": {},
   "source": [
    "\n",
    "* Some factors that might be results of racial bias or might capture information about decisions made with racial bias are included in the model that identifies if race was influential which likely decreases the influence of the varaible race, by decreasing its ability to capture all information about racial bias on the sentence because some information about racial bias is being encoded in these other variables (like charge_count). A possible solution could be a sentitivity test to refit the model and asses the influence of race (and the decrease in model accuracy) as you exclude other variables, allowing you to pinpoint which variables are encoding the most information that could be attributed to race.\n",
    "* we expect past history of convictions to play a significant role in predicting sentence length and be unqually distributed by race. We did not include this factor because limitations in data access, and this is serious limitation in the accuracy of our models. Incorporating this information will be a critical future work step.\n",
    "* consider class imbalance of black versus white convicted persons\n",
    "* use age at sentencing not age at incident, to better predict sentence length."
   ]
  },
  {
   "cell_type": "markdown",
   "metadata": {},
   "source": [
    "Notebook written by:\n",
    "- [Noah Chasek Macfoy](https://www.linkedin.com/in/noah-chasek-macfoy) \n",
    "Data Scientist, IBM\n",
    "- [Jerome Nilmeier, PhD](http://linkedin.com/in/nilmeier)\n",
    "Developer Advocate and Data Scientist, IBM"
   ]
  }
 ],
 "metadata": {
  "kernelspec": {
   "display_name": "p37-dojo",
   "language": "python",
   "name": "p37-dojo"
  },
  "language_info": {
   "codemirror_mode": {
    "name": "ipython",
    "version": 3
   },
   "file_extension": ".py",
   "mimetype": "text/x-python",
   "name": "python",
   "nbconvert_exporter": "python",
   "pygments_lexer": "ipython3",
   "version": "3.7.7"
  }
 },
 "nbformat": 4,
 "nbformat_minor": 4
}
