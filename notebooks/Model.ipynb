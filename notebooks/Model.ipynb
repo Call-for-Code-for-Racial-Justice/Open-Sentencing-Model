{
 "cells": [
  {
   "cell_type": "markdown",
   "metadata": {},
   "source": [
    "**Goal: Predict how likely a caseses sentencing is be very different if the convicted person was of a different race.**"
   ]
  },
  {
   "cell_type": "code",
   "execution_count": 2,
   "metadata": {},
   "outputs": [],
   "source": [
    "%load_ext autoreload\n",
    "%autoreload 2"
   ]
  },
  {
   "cell_type": "code",
   "execution_count": 4,
   "metadata": {},
   "outputs": [],
   "source": [
    "import pandas as pd\n",
    "import numpy as np\n",
    "from IPython.display import display\n",
    "import matplotlib.pyplot as plt\n",
    "%matplotlib inline\n",
    "import seaborn as sns\n",
    "from xgboost.sklearn import XGBRegressor\n",
    "from sklearn.pipeline import Pipeline\n",
    "from sklearn.preprocessing import OneHotEncoder\n",
    "from sklearn.compose import ColumnTransformer\n",
    "from sklearn.model_selection import train_test_split\n",
    "from sklearn.metrics import mean_absolute_error, r2_score\n",
    "from scipy.stats import pearsonr\n",
    "\n",
    "import pickle\n",
    "import datetime as dt\n",
    "import sys\n",
    "import inspect\n",
    "import json\n",
    "\n",
    "sys.path.append('../scripts')\n",
    "from predict_route import clean_data\n",
    "\n",
    "\n"
   ]
  },
  {
   "cell_type": "markdown",
   "metadata": {},
   "source": [
    "Data Source: https://datacatalog.cookcountyil.gov/Courts/Sentencing/tg8v-tm6u/data  \n",
    "Data Dictionary: https://datacatalog.cookcountyil.gov/api/views/tg8v-tm6u/files/8597cdda-f7e1-44d1-b0ce-0a4e43f8c980?download=true&filename=CCSAO%20Data%20Glossary.pdf  \n",
    "Data description: https://www.cookcountystatesattorney.org/resources/how-read-data"
   ]
  },
  {
   "cell_type": "code",
   "execution_count": 5,
   "metadata": {},
   "outputs": [
    {
     "name": "stderr",
     "output_type": "stream",
     "text": [
      "/Library/Frameworks/Python.framework/Versions/3.7/lib/python3.7/site-packages/IPython/core/interactiveshell.py:3063: DtypeWarning: Columns (25) have mixed types.Specify dtype option on import or set low_memory=False.\n",
      "  interactivity=interactivity, compiler=compiler, result=result)\n"
     ]
    }
   ],
   "source": [
    "csv = '../data/Sentencing-cook_county.csv'\n",
    "#csv = 'https://datacatalog.cookcountyil.gov/api/views/tg8v-tm6u/rows.csv'\n",
    "cols = ['CHARGE_COUNT',\n",
    "        'CHARGE_DISPOSITION', 'OFFENSE_CATEGORY', 'PRIMARY_CHARGE_FLAG',\n",
    "        'DISPOSITION_CHARGED_OFFENSE_TITLE', 'DISPOSITION_CHARGED_CLASS', 'SENTENCE_JUDGE',\n",
    "        'SENTENCE_PHASE', 'COMMITMENT_TERM', 'COMMITMENT_UNIT', 'LENGTH_OF_CASE_in_Days',\n",
    "        'AGE_AT_INCIDENT', 'RACE', 'GENDER', 'INCIDENT_CITY', 'LAW_ENFORCEMENT_AGENCY',\n",
    "        'LAW_ENFORCEMENT_UNIT', 'SENTENCE_TYPE']\n",
    "# 'CASE_PARTICIPANT_ID' and 'ARREST_DATE' could be useful if matched with another \n",
    "# dataset for including criminal history information\n",
    "orig_data = pd.read_csv(csv, usecols=cols)\n",
    "data = orig_data.copy()"
   ]
  },
  {
   "cell_type": "code",
   "execution_count": null,
   "metadata": {},
   "outputs": [],
   "source": []
  },
  {
   "cell_type": "code",
   "execution_count": 6,
   "metadata": {},
   "outputs": [
    {
     "name": "stdout",
     "output_type": "stream",
     "text": [
      "{\n",
      "  \"OFFENSE_CATEGORY\": \"PROMIS Conversion\",\n",
      "  \"PRIMARY_CHARGE_FLAG\": true,\n",
      "  \"DISPOSITION_CHARGED_OFFENSE_TITLE\": \"ARMED ROBBERY\",\n",
      "  \"CHARGE_COUNT\": 1,\n",
      "  \"DISPOSITION_CHARGED_CLASS\": \"X\",\n",
      "  \"CHARGE_DISPOSITION\": \"Plea Of Guilty\",\n",
      "  \"SENTENCE_JUDGE\": \"James L Rhodes\",\n",
      "  \"SENTENCE_PHASE\": \"Original Sentencing\",\n",
      "  \"SENTENCE_TYPE\": \"Prison\",\n",
      "  \"COMMITMENT_TERM\": 10.0,\n",
      "  \"COMMITMENT_UNIT\": \"Year(s)\",\n",
      "  \"LENGTH_OF_CASE_in_Days\": 1307.0,\n",
      "  \"AGE_AT_INCIDENT\": 17.0,\n",
      "  \"RACE\": \"Black\",\n",
      "  \"GENDER\": \"Male\",\n",
      "  \"INCIDENT_CITY\": null,\n",
      "  \"LAW_ENFORCEMENT_AGENCY\": \"PROMIS Data Conversion\",\n",
      "  \"LAW_ENFORCEMENT_UNIT\": null\n",
      "}\n"
     ]
    }
   ],
   "source": [
    "# JSON of first example\n",
    "json_str = orig_data.iloc[0].to_json()\n",
    "print(json.dumps(json.loads(json_str), indent=2))"
   ]
  },
  {
   "cell_type": "code",
   "execution_count": 4,
   "metadata": {},
   "outputs": [
    {
     "data": {
      "text/plain": [
       "{'CHARGE_COUNT': 'int64',\n",
       " 'CHARGE_DISPOSITION': 'str',\n",
       " 'OFFENSE_CATEGORY': 'str',\n",
       " 'PRIMARY_CHARGE_FLAG': 'bool',\n",
       " 'DISPOSITION_CHARGED_OFFENSE_TITLE': 'str',\n",
       " 'DISPOSITION_CHARGED_CLASS': 'str',\n",
       " 'SENTENCE_JUDGE': 'str',\n",
       " 'SENTENCE_PHASE': 'str',\n",
       " 'COMMITMENT_TERM': 'str',\n",
       " 'COMMITMENT_UNIT': 'str',\n",
       " 'LENGTH_OF_CASE_in_Days': 'float64',\n",
       " 'AGE_AT_INCIDENT': 'float64',\n",
       " 'RACE': 'str',\n",
       " 'GENDER': 'str',\n",
       " 'INCIDENT_CITY': 'str',\n",
       " 'LAW_ENFORCEMENT_AGENCY': 'str',\n",
       " 'LAW_ENFORCEMENT_UNIT': 'str',\n",
       " 'SENTENCE_TYPE': 'str'}"
      ]
     },
     "execution_count": 4,
     "metadata": {},
     "output_type": "execute_result"
    }
   ],
   "source": [
    "# get data types for each variable\n",
    "orig_data_dtypes = ['str' if str(i) is 'object' else str(i) for i in orig_data[cols].dtypes]\n",
    "dict(zip(cols, orig_data_dtypes))"
   ]
  },
  {
   "cell_type": "markdown",
   "metadata": {},
   "source": [
    "### Clean Data\n",
    "#### Exclude non-prison setences"
   ]
  },
  {
   "cell_type": "code",
   "execution_count": 5,
   "metadata": {},
   "outputs": [],
   "source": [
    "# filter to only prison sentences (no jail or probation, etc...)\n",
    "data = data.loc[data['SENTENCE_TYPE']=='Prison', :]\n",
    "data = data.drop('SENTENCE_TYPE', axis=1)"
   ]
  },
  {
   "cell_type": "code",
   "execution_count": 6,
   "metadata": {},
   "outputs": [],
   "source": [
    "#data['ARREST_DATE'] = pd.to_datetime(data['ARREST_DATE'], format='%m/%d/%Y %I:%M:%S %p')"
   ]
  },
  {
   "cell_type": "code",
   "execution_count": 7,
   "metadata": {},
   "outputs": [],
   "source": [
    "# data set includes arrests from as far back as the 1950's but is\n",
    "# limited to charges with disposition dates starting 10/10/2012\n",
    "#data['ARREST_DATE'].sort_values()"
   ]
  },
  {
   "cell_type": "markdown",
   "metadata": {},
   "source": [
    "#### Standardize race category names"
   ]
  },
  {
   "cell_type": "code",
   "execution_count": 8,
   "metadata": {},
   "outputs": [
    {
     "data": {
      "text/plain": [
       "Black                               95559\n",
       "White [Hispanic or Latino]          16003\n",
       "White                               13637\n",
       "HISPANIC                             2348\n",
       "White/Black [Hispanic or Latino]      681\n",
       "Asian                                 423\n",
       "Unknown                               120\n",
       "American Indian                        62\n",
       "ASIAN                                  39\n",
       "Biracial                                8\n",
       "Name: RACE, dtype: int64"
      ]
     },
     "execution_count": 8,
     "metadata": {},
     "output_type": "execute_result"
    }
   ],
   "source": [
    "data['RACE'].value_counts()"
   ]
  },
  {
   "cell_type": "code",
   "execution_count": 9,
   "metadata": {},
   "outputs": [],
   "source": [
    "# standardize race category names\n",
    "standard_race_map = {'Black': 'Black',\n",
    " 'White': 'White',\n",
    " 'HISPANIC': 'HISPANIC',\n",
    " 'White [Hispanic or Latino]': 'HISPANIC',\n",
    " 'White/Black [Hispanic or Latino]': 'HISPANIC',\n",
    " 'ASIAN': 'Asian',\n",
    " 'Asian': 'Asian',\n",
    " 'American Indian': 'American Indian',\n",
    " 'Unknown': 'Unknown',\n",
    " 'Biracial': 'Black'}\n",
    "\n",
    "data['RACE'] = data['RACE'].map(standard_race_map)\n",
    "# we can't compare racial outcomes if race is not known\n",
    "data = data.loc[data['RACE']!='Unknown', :]\n",
    "\n",
    "# biracial was just 8 people"
   ]
  },
  {
   "cell_type": "markdown",
   "metadata": {},
   "source": [
    "#### standardize gender categories"
   ]
  },
  {
   "cell_type": "code",
   "execution_count": 10,
   "metadata": {},
   "outputs": [
    {
     "data": {
      "text/plain": [
       "Male                          120663\n",
       "Female                          8235\n",
       "Unknown                            5\n",
       "Male name, no gender given         3\n",
       "Unknown Gender                     2\n",
       "Name: GENDER, dtype: int64"
      ]
     },
     "execution_count": 10,
     "metadata": {},
     "output_type": "execute_result"
    }
   ],
   "source": [
    "data['GENDER'].value_counts()"
   ]
  },
  {
   "cell_type": "code",
   "execution_count": 11,
   "metadata": {},
   "outputs": [],
   "source": [
    "# standardize gender categories\n",
    "mask = ~data['GENDER'].isin(['Male', 'Female'])\n",
    "data.loc[mask, 'GENDER'] = 'Unknown'"
   ]
  },
  {
   "cell_type": "markdown",
   "metadata": {},
   "source": [
    "#### Normalize commitment term to year units"
   ]
  },
  {
   "cell_type": "code",
   "execution_count": 12,
   "metadata": {},
   "outputs": [],
   "source": [
    "# convert from object dtype\n",
    "data['COMMITMENT_TERM'] = data['COMMITMENT_TERM'].astype(float)"
   ]
  },
  {
   "cell_type": "code",
   "execution_count": 13,
   "metadata": {},
   "outputs": [
    {
     "data": {
      "text/plain": [
       "Year(s)         114354\n",
       "Months           13760\n",
       "Natural Life       676\n",
       "Days               204\n",
       "Term                41\n",
       "Dollars             15\n",
       "Hours                4\n",
       "Weeks                1\n",
       "Name: COMMITMENT_UNIT, dtype: int64"
      ]
     },
     "execution_count": 13,
     "metadata": {},
     "output_type": "execute_result"
    }
   ],
   "source": [
    "data['COMMITMENT_UNIT'].value_counts()"
   ]
  },
  {
   "cell_type": "code",
   "execution_count": 14,
   "metadata": {},
   "outputs": [],
   "source": [
    "mask = data['COMMITMENT_UNIT'].isin(['Year(s)', 'Months', 'Natural Life', 'Days'])\n",
    "data = data.loc[mask, :]"
   ]
  },
  {
   "cell_type": "code",
   "execution_count": 15,
   "metadata": {},
   "outputs": [],
   "source": [
    "# normalize commitment term to year units\n",
    "term_divisors = {'Year(s)': 1, 'Months':12, 'Days': 365}\n",
    "\n",
    "# fill rows where unit is natural life with divsor==1\n",
    "divisor_col = data['COMMITMENT_UNIT'].map(term_divisors).fillna(1)\n",
    "data['COMMITMENT_TERM'] = data['COMMITMENT_TERM']/divisor_col"
   ]
  },
  {
   "cell_type": "code",
   "execution_count": 16,
   "metadata": {},
   "outputs": [
    {
     "data": {
      "text/plain": [
       "1.0      407\n",
       "0.0      101\n",
       "30.0      99\n",
       "100.0     47\n",
       "40.0      16\n",
       "20.0       2\n",
       "60.0       1\n",
       "4.0        1\n",
       "90.0       1\n",
       "7.0        1\n",
       "Name: COMMITMENT_TERM, dtype: int64"
      ]
     },
     "execution_count": 16,
     "metadata": {},
     "output_type": "execute_result"
    }
   ],
   "source": [
    "data.loc[data['COMMITMENT_UNIT']=='Natural Life','COMMITMENT_TERM'].value_counts()\n",
    "# this is very confusing... can you give someone more than 1 natural life\n",
    "# sentence for the same charge? And what does 0 natural life sentence mean"
   ]
  },
  {
   "cell_type": "code",
   "execution_count": 17,
   "metadata": {},
   "outputs": [],
   "source": [
    "# define natural life commitment term as the difference between the median age of the indviduals committed to natural life terms at the time of their offence and the us life expectancy\n",
    "age_when_committed = data.loc[data['COMMITMENT_UNIT']=='Natural Life', 'AGE_AT_INCIDENT'].median()\n",
    "natural_life_years = 78 - age_when_committed  # 78 is US life expectancy\n",
    "natural_life_years\n",
    "# consider using male us life expectancy\n",
    "\n",
    "# replace any value for commitment term where natural life is the unit to\n",
    "# the estimated year equivalent\n",
    "mask = data['COMMITMENT_UNIT']=='Natural Life'\n",
    "data.loc[mask,'COMMITMENT_TERM'] = natural_life_years"
   ]
  },
  {
   "cell_type": "code",
   "execution_count": 18,
   "metadata": {},
   "outputs": [],
   "source": [
    "data = data.drop('COMMITMENT_UNIT',axis=1)\n",
    "# future: assign normalized term to new var name"
   ]
  },
  {
   "cell_type": "code",
   "execution_count": 19,
   "metadata": {},
   "outputs": [
    {
     "data": {
      "text/plain": [
       "(128994, 16)"
      ]
     },
     "execution_count": 19,
     "metadata": {},
     "output_type": "execute_result"
    }
   ],
   "source": [
    "data.shape"
   ]
  },
  {
   "cell_type": "markdown",
   "metadata": {},
   "source": [
    "#### Remove variables and obervations with NULL values\n",
    "Drop cols that had more than 5% nulls, then rows with any null"
   ]
  },
  {
   "cell_type": "code",
   "execution_count": 20,
   "metadata": {},
   "outputs": [
    {
     "data": {
      "text/plain": [
       "OFFENSE_CATEGORY                     0.000000\n",
       "PRIMARY_CHARGE_FLAG                  0.000000\n",
       "DISPOSITION_CHARGED_OFFENSE_TITLE    0.000000\n",
       "CHARGE_COUNT                         0.000000\n",
       "DISPOSITION_CHARGED_CLASS            0.000093\n",
       "CHARGE_DISPOSITION                   0.000000\n",
       "SENTENCE_JUDGE                       0.001915\n",
       "SENTENCE_PHASE                       0.000000\n",
       "COMMITMENT_TERM                      0.000000\n",
       "LENGTH_OF_CASE_in_Days               0.077221\n",
       "AGE_AT_INCIDENT                      0.037420\n",
       "RACE                                 0.002450\n",
       "GENDER                               0.000000\n",
       "INCIDENT_CITY                        0.090338\n",
       "LAW_ENFORCEMENT_AGENCY               0.031994\n",
       "LAW_ENFORCEMENT_UNIT                 0.682598\n",
       "dtype: float64"
      ]
     },
     "execution_count": 20,
     "metadata": {},
     "output_type": "execute_result"
    }
   ],
   "source": [
    "# look at null values\n",
    "frac_null = data.isnull().sum()/data.shape[0]\n",
    "frac_null"
   ]
  },
  {
   "cell_type": "code",
   "execution_count": 21,
   "metadata": {},
   "outputs": [
    {
     "data": {
      "text/plain": [
       "Index(['LENGTH_OF_CASE_in_Days', 'INCIDENT_CITY', 'LAW_ENFORCEMENT_UNIT'], dtype='object')"
      ]
     },
     "execution_count": 21,
     "metadata": {},
     "output_type": "execute_result"
    }
   ],
   "source": [
    "# remove cols with more than 5% nulls\n",
    "mask = (frac_null > .05)\n",
    "nan_cols = data.columns[mask]\n",
    "data = data.drop(nan_cols,axis=1)\n",
    "nan_cols"
   ]
  },
  {
   "cell_type": "code",
   "execution_count": 22,
   "metadata": {},
   "outputs": [
    {
     "data": {
      "text/plain": [
       "0.04162209094996672"
      ]
     },
     "execution_count": 22,
     "metadata": {},
     "output_type": "execute_result"
    }
   ],
   "source": [
    "# drop rows that include any NaNs\n",
    "orig_rows = data.shape[0]\n",
    "data = data.dropna(axis=0)\n",
    "# fraction of rows dropped by dropping rows with any NaNs\n",
    "1 - data.shape[0]/orig_rows "
   ]
  },
  {
   "cell_type": "markdown",
   "metadata": {},
   "source": [
    "#### Reduce categories in high cardinality variables"
   ]
  },
  {
   "cell_type": "code",
   "execution_count": 23,
   "metadata": {},
   "outputs": [
    {
     "data": {
      "text/plain": [
       "count     232.000000\n",
       "mean      532.866379\n",
       "std       784.051617\n",
       "min         1.000000\n",
       "25%         3.000000\n",
       "50%        43.000000\n",
       "75%       910.250000\n",
       "max      3579.000000\n",
       "Name: SENTENCE_JUDGE, dtype: float64"
      ]
     },
     "execution_count": 23,
     "metadata": {},
     "output_type": "execute_result"
    }
   ],
   "source": [
    "data['SENTENCE_JUDGE'].value_counts().describe()"
   ]
  },
  {
   "cell_type": "code",
   "execution_count": 24,
   "metadata": {},
   "outputs": [
    {
     "data": {
      "text/plain": [
       "count     1026.000000\n",
       "mean       120.492203\n",
       "std        814.904363\n",
       "min          1.000000\n",
       "25%          1.000000\n",
       "50%          3.000000\n",
       "75%         14.000000\n",
       "max      18253.000000\n",
       "Name: DISPOSITION_CHARGED_OFFENSE_TITLE, dtype: float64"
      ]
     },
     "execution_count": 24,
     "metadata": {},
     "output_type": "execute_result"
    }
   ],
   "source": [
    "# 50% of charges titles have a only 3 observed sentences, 75% have less than 14\n",
    "data['DISPOSITION_CHARGED_OFFENSE_TITLE'].value_counts().describe()"
   ]
  },
  {
   "cell_type": "code",
   "execution_count": 25,
   "metadata": {},
   "outputs": [
    {
     "data": {
      "text/plain": [
       "DISPOSITION_CHARGED_OFFENSE_TITLE\n",
       "1        0.002686\n",
       "2        0.001828\n",
       "3        0.002111\n",
       "4        0.001683\n",
       "5        0.001658\n",
       "           ...   \n",
       "5490     0.044408\n",
       "6463     0.052279\n",
       "7303     0.059074\n",
       "7597     0.061452\n",
       "18253    0.147648\n",
       "Name: DISPOSITION_CHARGED_OFFENSE_TITLE, Length: 156, dtype: float64"
      ]
     },
     "execution_count": 25,
     "metadata": {},
     "output_type": "execute_result"
    }
   ],
   "source": [
    "# fraction of data in categories with n observed examples (to inform cutting categories by\n",
    "# the number of observed examples)\n",
    "freqs = data['DISPOSITION_CHARGED_OFFENSE_TITLE'].value_counts()\n",
    "freqs.groupby(freqs).sum()/data.shape[0]"
   ]
  },
  {
   "cell_type": "code",
   "execution_count": 26,
   "metadata": {},
   "outputs": [
    {
     "data": {
      "text/plain": [
       "CRIM TRESPASS TO STATE LAND                                                      1\n",
       "ATTEMPT HEINOUS BATTERY                                                          1\n",
       "AGG BTRY/POLICE/DOC/DHS                                                          1\n",
       "DEL CONCEALED FIR/MINOR/SCHOOL                                                   1\n",
       "DUI/3RD                                                                          1\n",
       "AGG ID THEFT/AGE 60+ >$100,000                                                   1\n",
       "AGGRAVATED ID THEFT/AGE 60+/DOCUMENT MAKING                                      1\n",
       "LURING OF A MINOR                                                                1\n",
       "RESIST/OBSTRUCT OFFICER                                                          1\n",
       "ABUSE/NEGLECT OF ELDERLY OR DISABLED/DEATH/CAREGIVER                             1\n",
       "ATT HOME INVASION/ARMED W/FIREARM                                                1\n",
       "CHILD SEX OFFENDER/LOITER PARK                                                   1\n",
       "THEFT/$300-$10K/SCHOOL/WORSHIP                                                   1\n",
       "POSS FRAUD DL/SUSP/REVOKED/2+                                                    1\n",
       "ATTEMPT( HOME INVASION/ARMED FORCE )                                             1\n",
       "AGGRAVATED DUI/PREVIOUS CONVICTION                                               1\n",
       "CYBERSTALK/CAUSE PERS FEAR/2+                                                    1\n",
       "HARASSMENT BY TELEPHONE\\THREAT\\KILL (EFF 6-1-1998)                               1\n",
       "UNLAWFUL STRINGING OF BIDS                                                       1\n",
       "DEL CONCEALED FIR/MINOR <18                                                      1\n",
       "POSSESSION OF A STOLEN FIREARM                                                   1\n",
       "AGG BATTERY/UTILITY WORKER                                                       1\n",
       "[POSSESSION/DELIVERY/PROCUREMENT/STORAGE/TRANSPORTATION] OF ANHYDROUS AMMONIA    1\n",
       "AGG CRIM SEX AB/INTEL DISABL                                                     1\n",
       "AGG BTRY/FIRST AID PERSONNEL                                                     1\n",
       "ATTEMPT ARMED VIOLENCE/CATEGORY I                                                1\n",
       "VIDEO PUBLIC PLACE/SEX OFFEN                                                     1\n",
       "CONDUCT TRANSACTION >$10K-$100K                                                  1\n",
       "UNAUTHD POSS SCRIPT/ALTERED/2+                                                   1\n",
       "SEX OFFENDER REGIS/FALSE INFO                                                    1\n",
       "Name: DISPOSITION_CHARGED_OFFENSE_TITLE, dtype: int64"
      ]
     },
     "execution_count": 26,
     "metadata": {},
     "output_type": "execute_result"
    }
   ],
   "source": [
    "n = -30\n",
    "data['DISPOSITION_CHARGED_OFFENSE_TITLE'].value_counts().iloc[n-30:n]"
   ]
  },
  {
   "cell_type": "code",
   "execution_count": 27,
   "metadata": {},
   "outputs": [
    {
     "data": {
      "text/plain": [
       "POSSESSION OF A CONTROLLED SUBSTANCE                 18253\n",
       "UNLAWFUL USE OR POSSESSION OF A WEAPON BY A FELON     7597\n",
       "RETAIL THEFT                                          7303\n",
       "AGGRAVATED UNLAWFUL USE OF WEAPON                     6463\n",
       "AGGRAVATED BATTERY                                    5490\n",
       "                                                     ...  \n",
       "BUY STOLEN RR FREIGHT                                    1\n",
       "POSS 200+ GR OTHER SCHED I & II                          1\n",
       "AGG CRIM SEX ABUSE                                       1\n",
       "THEFT/BY DECEPTION/PERSON/<300                           1\n",
       "CARRY/POSS CONCEALED WEAP/2ND                            1\n",
       "Name: DISPOSITION_CHARGED_OFFENSE_TITLE, Length: 1026, dtype: int64"
      ]
     },
     "execution_count": 27,
     "metadata": {},
     "output_type": "execute_result"
    }
   ],
   "source": [
    "data['DISPOSITION_CHARGED_OFFENSE_TITLE'].value_counts()"
   ]
  },
  {
   "cell_type": "code",
   "execution_count": 28,
   "metadata": {},
   "outputs": [
    {
     "data": {
      "text/plain": [
       "4    47683\n",
       "2    29020\n",
       "3    17879\n",
       "1    14192\n",
       "X    12118\n",
       "M     2394\n",
       "A      294\n",
       "B       18\n",
       "Z       14\n",
       "O        6\n",
       "C        6\n",
       "P        1\n",
       "Name: DISPOSITION_CHARGED_CLASS, dtype: int64"
      ]
     },
     "execution_count": 28,
     "metadata": {},
     "output_type": "execute_result"
    }
   ],
   "source": [
    "data['DISPOSITION_CHARGED_CLASS'].value_counts()"
   ]
  },
  {
   "cell_type": "code",
   "execution_count": 29,
   "metadata": {},
   "outputs": [],
   "source": [
    "def check_cat_dist(data, col_name, thresh=.1, top_n=25):\n",
    "    '''fraction of data in levels that represent less than 10% of total'''\n",
    "    freqs = data[col_name].value_counts()\n",
    "    frac_by_freq = freqs.groupby(freqs).sum()/data.shape[0] # percent of data represented by categories with x members\n",
    "    thresh = data.shape[0]*thresh\n",
    "    mask = frac_by_freq.index < thresh\n",
    "    frac_below_thresh = frac_by_freq[mask].sum() # percent of data in categories that each represent less than 10% of all obs\n",
    "    num_above_thresh = (~mask).sum() # number of categories which have more than thresh % (e.g. 10%) of data in them\n",
    "    frac_top_n = freqs[:top_n].sum()/data.shape[0]\n",
    "    return frac_below_thresh, num_above_thresh, frac_top_n"
   ]
  },
  {
   "cell_type": "code",
   "execution_count": 30,
   "metadata": {},
   "outputs": [
    {
     "name": "stdout",
     "output_type": "stream",
     "text": [
      "OFFENSE_CATEGORY\n",
      "87 categories\n",
      "45.714% of categories have less than 5.0% of the data in them\n",
      "5 categories have more than 5.0% of the data in them\n",
      "99.892% of the data is in the most frequent 73 categories \n",
      "\n",
      "DISPOSITION_CHARGED_OFFENSE_TITLE\n",
      "1026 categories\n",
      "67.955% of categories have less than 5.0% of the data in them\n",
      "4 categories have more than 5.0% of the data in them\n",
      "91.695% of the data is in the most frequent 73 categories \n",
      "\n",
      "DISPOSITION_CHARGED_CLASS\n",
      "12 categories\n",
      "2.211% of categories have less than 5.0% of the data in them\n",
      "5 categories have more than 5.0% of the data in them\n",
      "100.0% of the data is in the most frequent 73 categories \n",
      "\n",
      "CHARGE_DISPOSITION\n",
      "21 categories\n",
      "3.636% of categories have less than 5.0% of the data in them\n",
      "2 categories have more than 5.0% of the data in them\n",
      "100.0% of the data is in the most frequent 73 categories \n",
      "\n",
      "SENTENCE_JUDGE\n",
      "232 categories\n",
      "100.0% of categories have less than 5.0% of the data in them\n",
      "0 categories have more than 5.0% of the data in them\n",
      "91.068% of the data is in the most frequent 73 categories \n",
      "\n",
      "SENTENCE_PHASE\n",
      "6 categories\n",
      "5.699% of categories have less than 5.0% of the data in them\n",
      "1 categories have more than 5.0% of the data in them\n",
      "100.0% of the data is in the most frequent 73 categories \n",
      "\n",
      "RACE\n",
      "5 categories\n",
      "0.405% of categories have less than 5.0% of the data in them\n",
      "3 categories have more than 5.0% of the data in them\n",
      "100.0% of the data is in the most frequent 73 categories \n",
      "\n",
      "GENDER\n",
      "3 categories\n",
      "0.018% of categories have less than 5.0% of the data in them\n",
      "2 categories have more than 5.0% of the data in them\n",
      "100.0% of the data is in the most frequent 73 categories \n",
      "\n",
      "LAW_ENFORCEMENT_AGENCY\n",
      "428 categories\n",
      "32.582% of categories have less than 5.0% of the data in them\n",
      "1 categories have more than 5.0% of the data in them\n",
      "91.304% of the data is in the most frequent 73 categories \n",
      "\n"
     ]
    }
   ],
   "source": [
    "# look at distribution of obs across categories\n",
    "thresh = .05\n",
    "top_n=73\n",
    "for i in data.select_dtypes('object').columns:\n",
    "    print(i)\n",
    "    a,b,c = check_cat_dist(data, i, thresh, top_n)\n",
    "    print(f'{data[i].unique().shape[0]} categories')\n",
    "    print(f'{round(a*100,3)}% of categories have less than {thresh*100}% of the data in them')\n",
    "    print(f'{b} categories have more than {thresh*100}% of the data in them')\n",
    "    print(f'{round(c*100,3)}% of the data is in the most frequent {top_n} categories', '\\n')\n",
    "\n",
    "\n",
    "# future: turn into transformer with thresh and top_n as params (is that already in OneHotEncoder?)"
   ]
  },
  {
   "cell_type": "code",
   "execution_count": 31,
   "metadata": {},
   "outputs": [],
   "source": [
    "## cutoffs for which categories to include:\n",
    "    \n",
    "#OFFENSE_CATEGORY top 25\n",
    "\n",
    "#DISPOSITION_CHARGED_OFFENSE_TITLE top 40\n",
    "\n",
    "#CHARGE_DISPOSITION - future\n",
    "\n",
    "# LAW_ENFORCEMENT_AGENCY - top 20\n",
    "\n",
    "# SENTENCE_JUDGE - top 73"
   ]
  },
  {
   "cell_type": "code",
   "execution_count": 32,
   "metadata": {},
   "outputs": [],
   "source": [
    "# reduce cardinality of high cardinality categories\n",
    "top_ns = {'OFFENSE_CATEGORY':25, 'DISPOSITION_CHARGED_OFFENSE_TITLE': 40,\n",
    " 'LAW_ENFORCEMENT_AGENCY': 20, 'SENTENCE_JUDGE': 73}\n",
    "\n",
    "# consolidate infrequent categories\n",
    "for name, n in top_ns.items():\n",
    "    combine_cats = data[name].value_counts()[n:].index\n",
    "    mask = data[name].isin(combine_cats)\n",
    "    data.loc[mask, name] = 'misc_other'"
   ]
  },
  {
   "cell_type": "markdown",
   "metadata": {},
   "source": [
    "#### Clip range of COMMITMENT_TERM"
   ]
  },
  {
   "cell_type": "code",
   "execution_count": 33,
   "metadata": {},
   "outputs": [
    {
     "data": {
      "text/plain": [
       "8332      2032012.0\n",
       "8333      2032012.0\n",
       "32420         999.0\n",
       "32421         999.0\n",
       "32422         999.0\n",
       "32423         999.0\n",
       "32424         999.0\n",
       "32425         999.0\n",
       "32426         999.0\n",
       "32427         999.0\n",
       "219979        364.0\n",
       "Name: COMMITMENT_TERM, dtype: float64"
      ]
     },
     "execution_count": 33,
     "metadata": {},
     "output_type": "execute_result"
    }
   ],
   "source": [
    "# There are 11 prison terms greater than 110 years, these are extreme outliers\n",
    "# and caused large errors in the model. I clip any all values to 110\n",
    "mask = data['COMMITMENT_TERM'] > 110\n",
    "data.loc[mask, 'COMMITMENT_TERM']"
   ]
  },
  {
   "cell_type": "code",
   "execution_count": 34,
   "metadata": {},
   "outputs": [],
   "source": [
    "# clip any all value above to 110 years\n",
    "data['COMMITMENT_TERM'] = data['COMMITMENT_TERM'].clip(upper=110)"
   ]
  },
  {
   "cell_type": "code",
   "execution_count": 35,
   "metadata": {},
   "outputs": [
    {
     "data": {
      "text/plain": [
       "Index(['OFFENSE_CATEGORY', 'PRIMARY_CHARGE_FLAG',\n",
       "       'DISPOSITION_CHARGED_OFFENSE_TITLE', 'CHARGE_COUNT',\n",
       "       'DISPOSITION_CHARGED_CLASS', 'CHARGE_DISPOSITION', 'SENTENCE_JUDGE',\n",
       "       'SENTENCE_PHASE', 'COMMITMENT_TERM', 'AGE_AT_INCIDENT', 'RACE',\n",
       "       'GENDER', 'LAW_ENFORCEMENT_AGENCY'],\n",
       "      dtype='object')"
      ]
     },
     "execution_count": 35,
     "metadata": {},
     "output_type": "execute_result"
    }
   ],
   "source": [
    "predict_cols = data.columns\n",
    "predict_cols"
   ]
  },
  {
   "cell_type": "code",
   "execution_count": 37,
   "metadata": {},
   "outputs": [],
   "source": [
    "# check that the clean data function does the exact same thing as the cleaning in this notebook.\n",
    "a = clean_data(orig_data)\n",
    "assert (a == data).all().all()"
   ]
  },
  {
   "cell_type": "markdown",
   "metadata": {},
   "source": [
    "### Look at correlation between features"
   ]
  },
  {
   "cell_type": "code",
   "execution_count": 16,
   "metadata": {},
   "outputs": [
    {
     "data": {
      "text/plain": [
       "(array([1., 1.]), array([0.80125196, 0.80125196]))"
      ]
     },
     "execution_count": 16,
     "metadata": {},
     "output_type": "execute_result"
    }
   ],
   "source": [
    "from sklearn.feature_selection import f_classif, chi2\n",
    "\n",
    "\n",
    "a = np.array([0,1,2,3]).repeat(2).reshape(-1,2).astype('bool')\n",
    "chi2(a, [0,1,2,3])"
   ]
  },
  {
   "cell_type": "code",
   "execution_count": 17,
   "metadata": {},
   "outputs": [],
   "source": [
    "#np.c_[[0,1,2,3], list('0123')]# < 0 \n",
    "a = np.array([0,1,2,3]).repeat(2).reshape(-1,2)"
   ]
  },
  {
   "cell_type": "code",
   "execution_count": null,
   "metadata": {},
   "outputs": [],
   "source": [
    "# 2 kinds of features: numeric and categorical\n",
    "# 3 kind of relations: numeric-numeric, numeric-categorical, categorical-categorical\n",
    "# 3 kinds of measures of association: pearson r correlation, ANOVA, chi-sq"
   ]
  },
  {
   "cell_type": "markdown",
   "metadata": {},
   "source": [
    "### Build Sentence Length Model"
   ]
  },
  {
   "cell_type": "markdown",
   "metadata": {},
   "source": [
    "**Discussion of Model Goals:**\n",
    "\n",
    "Predict the the sentence based on a wide range of factors including race, identify scenrios where race is an influential predictor, use the same wide range of factor to identify which are influential in scenarios where race was an influential predictor\n",
    "\n",
    "- drawback: some factors that might be results of racial bias or might capture information about decisions made with racial bias are included in the model that identifies if race was influential which likely decreases the influence of the varaible race, by decreasing its ability to capture all information about racial bias on the sentence because some information about racial bias is being encoded in these other variables (like charge_count). Maybe a sentitivity test to refit the model and asses the influence of race (and the decrease in model accuracy) as you exclude other variables, allowing you to pinpoint which variables are encoding the most information that could be attributed to race.\n",
    "\n",
    "\n",
    "\n",
    "____________\n",
    "\n",
    "Goal: define a measure of racial bias in sentencing, by predicting sentence length based on charge severity and demographic factors, see what gap there is between white and black.\n",
    "\n",
    "We need a model that identifies different degrees of racial bias given different case/defendent profiles.\n",
    "\n",
    "\n",
    "Approaches to build racial bias model:\n",
    "deviation from conditional avg at each level, limited variables\n",
    "deviation from linear regression prediction, limited variables\n",
    "deviation from all variable ML prediction"
   ]
  },
  {
   "cell_type": "code",
   "execution_count": 34,
   "metadata": {},
   "outputs": [],
   "source": [
    "#race, criminal history, future recidivism, charge degree, gender and age\n",
    "# variables from propublica model"
   ]
  },
  {
   "cell_type": "markdown",
   "metadata": {},
   "source": [
    "I will not include Charge Title as a feature because it has too much or a long tail of low occuring categories (and too many categories overall to easily handle).\n",
    "- Potential solutions: using some alternative categorical encoding than one-hot, like mean encoding or other..."
   ]
  },
  {
   "cell_type": "code",
   "execution_count": 35,
   "metadata": {},
   "outputs": [],
   "source": [
    "#charge_classes = data['DISPOSITION_CHARGED_CLASS'].unique() # if manually setting change "
   ]
  },
  {
   "cell_type": "code",
   "execution_count": 36,
   "metadata": {},
   "outputs": [],
   "source": [
    "# train test split\n",
    "target = 'COMMITMENT_TERM'\n",
    "x_data = data.drop(target,axis=1)\n",
    "y_data = data[target]\n",
    "\n",
    "rng = np.random.RandomState()\n",
    "rs = rng.get_state()\n",
    "\n",
    "x_train, x_test, y_train, y_test = train_test_split(x_data, y_data, random_state=rng)"
   ]
  },
  {
   "cell_type": "code",
   "execution_count": 37,
   "metadata": {},
   "outputs": [],
   "source": [
    "trans = OneHotEncoder(handle_unknown='ignore')\n",
    "cats = ('cats', trans, x_data.select_dtypes('object').columns)\n",
    "df_trans = ColumnTransformer([cats], remainder='passthrough')\n",
    "\n",
    "#orig_x_test, orig_x_train = x_test.copy(), x_train.copy()\n",
    "x_train = df_trans.fit_transform(x_train)\n",
    "x_test = df_trans.transform(x_test)"
   ]
  },
  {
   "cell_type": "code",
   "execution_count": 38,
   "metadata": {},
   "outputs": [],
   "source": [
    "# fit on default params # fit HPO\n",
    "\n",
    "model = XGBRegressor()\n",
    "model.fit(X=x_train, y=y_train)\n",
    "preds = model.predict(x_test)\n",
    "\n",
    "# future: consider trying catboost bc so many categoricals"
   ]
  },
  {
   "cell_type": "code",
   "execution_count": 39,
   "metadata": {},
   "outputs": [
    {
     "name": "stdout",
     "output_type": "stream",
     "text": [
      "Mean Absolute Error: 1.7756890689951177\n",
      "Fraction of total target variance accounted for (r^2): 0.8063562556040881\n"
     ]
    }
   ],
   "source": [
    "# evaluate accuracy\n",
    "mae = mean_absolute_error(y_test, preds)\n",
    "r2 = r2_score(y_test, preds)\n",
    "print('Mean Absolute Error:',mae)\n",
    "print('Fraction of total target variance accounted for (r^2):', r2)"
   ]
  },
  {
   "cell_type": "code",
   "execution_count": 40,
   "metadata": {},
   "outputs": [],
   "source": [
    "categorical_transform = ('categorical_transformer', df_trans)\n",
    "sentence_estimator = ('sentence_estimator', model)\n",
    "sentence_pipe = Pipeline([categorical_transform, sentence_estimator])"
   ]
  },
  {
   "cell_type": "code",
   "execution_count": 50,
   "metadata": {},
   "outputs": [],
   "source": [
    "# pickle sentence length model \n",
    "if False:\n",
    "    ts = dt.datetime.now().strftime('%Y-%m-%d_%Hh%Mm%Ss')\n",
    "    with open(f'../saved_models/sentence_pipe_mae{round(mae,3)}_{ts}.pkl', 'wb') as f:\n",
    "        pickle.dump(sentence_pipe, f, -1)"
   ]
  },
  {
   "cell_type": "code",
   "execution_count": 42,
   "metadata": {},
   "outputs": [
    {
     "data": {
      "text/plain": [
       "count    30904.000000\n",
       "mean         5.402694\n",
       "std          8.541676\n",
       "min          0.000000\n",
       "25%          1.500000\n",
       "50%          3.000000\n",
       "75%          6.000000\n",
       "max        110.000000\n",
       "Name: COMMITMENT_TERM, dtype: float64"
      ]
     },
     "execution_count": 42,
     "metadata": {},
     "output_type": "execute_result"
    }
   ],
   "source": [
    "pd.Series(y_test).describe()"
   ]
  },
  {
   "cell_type": "code",
   "execution_count": 43,
   "metadata": {},
   "outputs": [
    {
     "data": {
      "image/png": "[encoded data removed]",
      "text/plain": [
       "<Figure size 432x288 with 1 Axes>"
      ]
     },
     "metadata": {
      "needs_background": "light"
     },
     "output_type": "display_data"
    }
   ],
   "source": [
    "plt.hist(y_test, bins=40, alpha=.3)\n",
    "plt.hist(preds, bins=40, alpha=.3)\n",
    "plt.show()"
   ]
  },
  {
   "cell_type": "code",
   "execution_count": 44,
   "metadata": {},
   "outputs": [
    {
     "data": {
      "text/html": [
       "<div>\n",
       "<style scoped>\n",
       "    .dataframe tbody tr th:only-of-type {\n",
       "        vertical-align: middle;\n",
       "    }\n",
       "\n",
       "    .dataframe tbody tr th {\n",
       "        vertical-align: top;\n",
       "    }\n",
       "\n",
       "    .dataframe thead th {\n",
       "        text-align: right;\n",
       "    }\n",
       "</style>\n",
       "<table border=\"1\" class=\"dataframe\">\n",
       "  <thead>\n",
       "    <tr style=\"text-align: right;\">\n",
       "      <th></th>\n",
       "      <th>y_true</th>\n",
       "      <th>y_preds</th>\n",
       "      <th>error</th>\n",
       "    </tr>\n",
       "  </thead>\n",
       "  <tbody>\n",
       "    <tr>\n",
       "      <th>219979</th>\n",
       "      <td>110.0</td>\n",
       "      <td>1.765664</td>\n",
       "      <td>108.234336</td>\n",
       "    </tr>\n",
       "    <tr>\n",
       "      <th>171265</th>\n",
       "      <td>102.0</td>\n",
       "      <td>20.155760</td>\n",
       "      <td>81.844240</td>\n",
       "    </tr>\n",
       "    <tr>\n",
       "      <th>171264</th>\n",
       "      <td>102.0</td>\n",
       "      <td>20.155760</td>\n",
       "      <td>81.844240</td>\n",
       "    </tr>\n",
       "    <tr>\n",
       "      <th>1484</th>\n",
       "      <td>105.0</td>\n",
       "      <td>26.231197</td>\n",
       "      <td>78.768803</td>\n",
       "    </tr>\n",
       "    <tr>\n",
       "      <th>15310</th>\n",
       "      <td>80.0</td>\n",
       "      <td>3.601948</td>\n",
       "      <td>76.398052</td>\n",
       "    </tr>\n",
       "    <tr>\n",
       "      <th>...</th>\n",
       "      <td>...</td>\n",
       "      <td>...</td>\n",
       "      <td>...</td>\n",
       "    </tr>\n",
       "    <tr>\n",
       "      <th>133491</th>\n",
       "      <td>2.0</td>\n",
       "      <td>1.999451</td>\n",
       "      <td>0.000549</td>\n",
       "    </tr>\n",
       "    <tr>\n",
       "      <th>103649</th>\n",
       "      <td>1.5</td>\n",
       "      <td>1.500452</td>\n",
       "      <td>0.000452</td>\n",
       "    </tr>\n",
       "    <tr>\n",
       "      <th>54356</th>\n",
       "      <td>2.0</td>\n",
       "      <td>2.000447</td>\n",
       "      <td>0.000447</td>\n",
       "    </tr>\n",
       "    <tr>\n",
       "      <th>70647</th>\n",
       "      <td>4.0</td>\n",
       "      <td>3.999704</td>\n",
       "      <td>0.000296</td>\n",
       "    </tr>\n",
       "    <tr>\n",
       "      <th>211239</th>\n",
       "      <td>1.0</td>\n",
       "      <td>0.999740</td>\n",
       "      <td>0.000260</td>\n",
       "    </tr>\n",
       "  </tbody>\n",
       "</table>\n",
       "<p>30904 rows × 3 columns</p>\n",
       "</div>"
      ],
      "text/plain": [
       "        y_true    y_preds       error\n",
       "219979   110.0   1.765664  108.234336\n",
       "171265   102.0  20.155760   81.844240\n",
       "171264   102.0  20.155760   81.844240\n",
       "1484     105.0  26.231197   78.768803\n",
       "15310     80.0   3.601948   76.398052\n",
       "...        ...        ...         ...\n",
       "133491     2.0   1.999451    0.000549\n",
       "103649     1.5   1.500452    0.000452\n",
       "54356      2.0   2.000447    0.000447\n",
       "70647      4.0   3.999704    0.000296\n",
       "211239     1.0   0.999740    0.000260\n",
       "\n",
       "[30904 rows x 3 columns]"
      ]
     },
     "execution_count": 44,
     "metadata": {},
     "output_type": "execute_result"
    }
   ],
   "source": [
    "# evaluate error distribution\n",
    "a = pd.DataFrame({'y_true':y_test,'y_preds':preds})\n",
    "a['error'] = np.abs(a['y_true'] - a['y_preds'])\n",
    "\n",
    "a.sort_values('error', ascending=False)\n",
    "# future: look for patterns in where the error is highest. \n",
    "#cluster high erros, or even regress against erros?"
   ]
  },
  {
   "cell_type": "code",
   "execution_count": 45,
   "metadata": {},
   "outputs": [
    {
     "data": {
      "text/plain": [
       "count    30904.000000\n",
       "mean         1.775689\n",
       "std          3.312872\n",
       "min          0.000260\n",
       "25%          0.388118\n",
       "50%          0.851495\n",
       "75%          1.814034\n",
       "max        108.234336\n",
       "Name: error, dtype: float64"
      ]
     },
     "execution_count": 45,
     "metadata": {},
     "output_type": "execute_result"
    }
   ],
   "source": [
    "a.error.describe()"
   ]
  },
  {
   "cell_type": "markdown",
   "metadata": {},
   "source": [
    "#### Build Racial discrepancy evaluator"
   ]
  },
  {
   "cell_type": "code",
   "execution_count": 73,
   "metadata": {},
   "outputs": [
    {
     "name": "stdout",
     "output_type": "stream",
     "text": [
      "def make_counterfactual(data):\n",
      "    '''Take data and switch race variable to \"opposite\" value'''\n",
      "    # white --> black\n",
      "    # non-white --> white\n",
      "    race_counterfactual_map =\\\n",
      "    {'Black': 'White',\n",
      "    'White': 'Black',\n",
      "    'HISPANIC': 'White',\n",
      "    'Asian': 'White',\n",
      "    'American Indian': 'White'}\n",
      "\n",
      "    data_counterfactual = data.copy()\n",
      "    data_counterfactual['RACE'] = data['RACE'].map(race_counterfactual_map)\n",
      "    return data_counterfactual\n",
      "\n"
     ]
    }
   ],
   "source": [
    "from predict_route import make_counterfactual\n",
    "print(inspect.getsource(make_counterfactual))"
   ]
  },
  {
   "cell_type": "code",
   "execution_count": 61,
   "metadata": {},
   "outputs": [
    {
     "name": "stdout",
     "output_type": "stream",
     "text": [
      "def estimate_discrepancy(model, data):\n",
      "    '''estimate discrepancy in setnece length if race was switched'''\n",
      "    diff = model.predict(make_counterfactual(data)) - model.predict(data)\n",
      "    return diff\n",
      "\n"
     ]
    }
   ],
   "source": [
    "from predict_route import estimate_discrepancy\n",
    "print(inspect.getsource(estimate_discrepancy))"
   ]
  },
  {
   "cell_type": "code",
   "execution_count": 57,
   "metadata": {},
   "outputs": [],
   "source": [
    "rng.set_state(rs) # reset random state for replicable split\n",
    "x_train, x_test = train_test_split(x_data, random_state=rng)\n",
    "\n",
    "# we can use the same transformer bc all the categories in the counterfactual \n",
    "# should have been seen in train"
   ]
  },
  {
   "cell_type": "code",
   "execution_count": 71,
   "metadata": {},
   "outputs": [],
   "source": [
    "discrepancy = estimate_discrepancy(sentence_pipe, x_test)\n",
    "error = y_test - (sentence_pipe.predict(x_test))"
   ]
  },
  {
   "cell_type": "code",
   "execution_count": 72,
   "metadata": {},
   "outputs": [
    {
     "data": {
      "text/plain": [
       "(-0.041331719047177445, 3.6286839445556313e-13)"
      ]
     },
     "execution_count": 72,
     "metadata": {},
     "output_type": "execute_result"
    }
   ],
   "source": [
    "# check if error is correlated to the discrepancy\n",
    "pearsonr(discrepancy, error)\n",
    "# good that the correlation is not strong between the sentence "
   ]
  },
  {
   "cell_type": "code",
   "execution_count": 73,
   "metadata": {},
   "outputs": [
    {
     "data": {
      "text/plain": [
       "count    30904.000000\n",
       "mean        -0.105365\n",
       "std          0.636205\n",
       "min        -10.887285\n",
       "25%         -0.103147\n",
       "50%         -0.101215\n",
       "75%          0.008030\n",
       "max         13.234074\n",
       "dtype: float64"
      ]
     },
     "execution_count": 73,
     "metadata": {},
     "output_type": "execute_result"
    }
   ],
   "source": [
    "pd.Series(discrepancy).describe()"
   ]
  },
  {
   "cell_type": "code",
   "execution_count": 65,
   "metadata": {},
   "outputs": [
    {
     "data": {
      "image/png": "[encoded data removed]",
      "text/plain": [
       "<Figure size 432x288 with 1 Axes>"
      ]
     },
     "metadata": {
      "needs_background": "light"
     },
     "output_type": "display_data"
    }
   ],
   "source": [
    "plt.hist(discrepancy,bins=80)\n",
    "plt.show()"
   ]
  },
  {
   "cell_type": "code",
   "execution_count": 80,
   "metadata": {},
   "outputs": [
    {
     "data": {
      "text/html": [
       "<div>\n",
       "<style scoped>\n",
       "    .dataframe tbody tr th:only-of-type {\n",
       "        vertical-align: middle;\n",
       "    }\n",
       "\n",
       "    .dataframe tbody tr th {\n",
       "        vertical-align: top;\n",
       "    }\n",
       "\n",
       "    .dataframe thead th {\n",
       "        text-align: right;\n",
       "    }\n",
       "</style>\n",
       "<table border=\"1\" class=\"dataframe\">\n",
       "  <thead>\n",
       "    <tr style=\"text-align: right;\">\n",
       "      <th></th>\n",
       "      <th>preds</th>\n",
       "      <th>preds_counterfactual</th>\n",
       "      <th>model_error</th>\n",
       "      <th>racial_discrepancy</th>\n",
       "    </tr>\n",
       "  </thead>\n",
       "  <tbody>\n",
       "    <tr>\n",
       "      <th>2353</th>\n",
       "      <td>38.304379</td>\n",
       "      <td>51.538452</td>\n",
       "      <td>-3.304379</td>\n",
       "      <td>13.234074</td>\n",
       "    </tr>\n",
       "    <tr>\n",
       "      <th>54779</th>\n",
       "      <td>3.594712</td>\n",
       "      <td>15.997994</td>\n",
       "      <td>0.905288</td>\n",
       "      <td>12.403282</td>\n",
       "    </tr>\n",
       "    <tr>\n",
       "      <th>54783</th>\n",
       "      <td>3.594712</td>\n",
       "      <td>15.997994</td>\n",
       "      <td>0.905288</td>\n",
       "      <td>12.403282</td>\n",
       "    </tr>\n",
       "    <tr>\n",
       "      <th>905</th>\n",
       "      <td>38.049328</td>\n",
       "      <td>49.901608</td>\n",
       "      <td>21.950672</td>\n",
       "      <td>11.852280</td>\n",
       "    </tr>\n",
       "    <tr>\n",
       "      <th>30170</th>\n",
       "      <td>50.576340</td>\n",
       "      <td>61.570972</td>\n",
       "      <td>-30.576340</td>\n",
       "      <td>10.994633</td>\n",
       "    </tr>\n",
       "    <tr>\n",
       "      <th>...</th>\n",
       "      <td>...</td>\n",
       "      <td>...</td>\n",
       "      <td>...</td>\n",
       "      <td>...</td>\n",
       "    </tr>\n",
       "    <tr>\n",
       "      <th>172519</th>\n",
       "      <td>23.485662</td>\n",
       "      <td>15.640184</td>\n",
       "      <td>16.514338</td>\n",
       "      <td>-7.845478</td>\n",
       "    </tr>\n",
       "    <tr>\n",
       "      <th>2328</th>\n",
       "      <td>65.167206</td>\n",
       "      <td>56.441597</td>\n",
       "      <td>9.832794</td>\n",
       "      <td>-8.725609</td>\n",
       "    </tr>\n",
       "    <tr>\n",
       "      <th>94160</th>\n",
       "      <td>34.778000</td>\n",
       "      <td>25.673868</td>\n",
       "      <td>-9.778000</td>\n",
       "      <td>-9.104132</td>\n",
       "    </tr>\n",
       "    <tr>\n",
       "      <th>29870</th>\n",
       "      <td>35.395985</td>\n",
       "      <td>24.508699</td>\n",
       "      <td>12.604015</td>\n",
       "      <td>-10.887285</td>\n",
       "    </tr>\n",
       "    <tr>\n",
       "      <th>29871</th>\n",
       "      <td>38.871155</td>\n",
       "      <td>27.983870</td>\n",
       "      <td>9.128845</td>\n",
       "      <td>-10.887285</td>\n",
       "    </tr>\n",
       "  </tbody>\n",
       "</table>\n",
       "<p>30904 rows × 4 columns</p>\n",
       "</div>"
      ],
      "text/plain": [
       "            preds  preds_counterfactual  model_error  racial_discrepancy\n",
       "2353    38.304379             51.538452    -3.304379           13.234074\n",
       "54779    3.594712             15.997994     0.905288           12.403282\n",
       "54783    3.594712             15.997994     0.905288           12.403282\n",
       "905     38.049328             49.901608    21.950672           11.852280\n",
       "30170   50.576340             61.570972   -30.576340           10.994633\n",
       "...           ...                   ...          ...                 ...\n",
       "172519  23.485662             15.640184    16.514338           -7.845478\n",
       "2328    65.167206             56.441597     9.832794           -8.725609\n",
       "94160   34.778000             25.673868    -9.778000           -9.104132\n",
       "29870   35.395985             24.508699    12.604015          -10.887285\n",
       "29871   38.871155             27.983870     9.128845          -10.887285\n",
       "\n",
       "[30904 rows x 4 columns]"
      ]
     },
     "execution_count": 80,
     "metadata": {},
     "output_type": "execute_result"
    }
   ],
   "source": [
    "preds = sentence_pipe.predict(x_test)\n",
    "preds_counterfactual = sentence_pipe.predict(make_counterfactual(x_test))\n",
    "df = pd.DataFrame({'preds': preds,\n",
    "                   'preds_counterfactual':preds_counterfactual,\n",
    "                   'model_error': y_test - preds,\n",
    "                   'racial_discrepancy': preds_counterfactual - preds\n",
    "                  })\n",
    "df.sort_values('racial_discrepancy', ascending=False)"
   ]
  },
  {
   "cell_type": "code",
   "execution_count": 47,
   "metadata": {},
   "outputs": [
    {
     "data": {
      "text/plain": [
       "count    30904.000000\n",
       "mean         0.298894\n",
       "std          0.752823\n",
       "min          0.000000\n",
       "25%          0.098587\n",
       "50%          0.137836\n",
       "75%          0.251878\n",
       "max         31.974510\n",
       "Name: racial_difference, dtype: float64"
      ]
     },
     "execution_count": 47,
     "metadata": {},
     "output_type": "execute_result"
    }
   ],
   "source": [
    "# These racial discrepancies are probably no statistically significant\n",
    "# Future: look into the really large divergences\n",
    "b.racial_discrepancy.describe()"
   ]
  },
  {
   "cell_type": "code",
   "execution_count": 49,
   "metadata": {},
   "outputs": [
    {
     "name": "stdout",
     "output_type": "stream",
     "text": [
      "[0.37337184]\n",
      "[0.37337184]\n"
     ]
    }
   ],
   "source": [
    "#np.random.seed(None)\n",
    "rng = np.random.RandomState()\n",
    "rs = rng.get_state()\n",
    "print(rng.rand(1))\n",
    "rng.set_state(rs)\n",
    "print(rng.rand(1))"
   ]
  },
  {
   "cell_type": "markdown",
   "metadata": {},
   "source": [
    "### Fit Racial bias prediction model\n",
    "Race is not included in this model"
   ]
  },
  {
   "cell_type": "code",
   "execution_count": 50,
   "metadata": {},
   "outputs": [],
   "source": [
    "# fit, acc, error dist"
   ]
  },
  {
   "cell_type": "code",
   "execution_count": 51,
   "metadata": {},
   "outputs": [],
   "source": [
    "# train test split\n",
    "y_data = bias\n",
    "x_data = x_data.drop('RACE', axis=1)\n",
    "\n",
    "x_train, x_test, y_train, y_test = train_test_split(x_data, y_data)\n",
    "orig_x_train, orig_x_test = x_train.copy(), x_test.copy()"
   ]
  },
  {
   "cell_type": "code",
   "execution_count": null,
   "metadata": {},
   "outputs": [],
   "source": []
  },
  {
   "cell_type": "code",
   "execution_count": 52,
   "metadata": {},
   "outputs": [],
   "source": [
    "trans = OneHotEncoder(handle_unknown='ignore')\n",
    "cats = ('cats', trans, x_data.select_dtypes('object').columns)\n",
    "df_trans = ColumnTransformer([cats], remainder='passthrough')\n",
    "\n",
    "x_train = df_trans.fit_transform(x_train)\n",
    "x_test = df_trans.transform(x_test)"
   ]
  },
  {
   "cell_type": "code",
   "execution_count": 53,
   "metadata": {},
   "outputs": [
    {
     "data": {
      "text/plain": [
       "Index(['OFFENSE_CATEGORY', 'PRIMARY_CHARGE_FLAG',\n",
       "       'DISPOSITION_CHARGED_OFFENSE_TITLE', 'CHARGE_COUNT',\n",
       "       'DISPOSITION_CHARGED_CLASS', 'CHARGE_DISPOSITION', 'SENTENCE_JUDGE',\n",
       "       'SENTENCE_PHASE', 'AGE_AT_INCIDENT', 'GENDER',\n",
       "       'LAW_ENFORCEMENT_AGENCY'],\n",
       "      dtype='object')"
      ]
     },
     "execution_count": 53,
     "metadata": {},
     "output_type": "execute_result"
    }
   ],
   "source": [
    "orig_x_train.columns"
   ]
  },
  {
   "cell_type": "code",
   "execution_count": 54,
   "metadata": {},
   "outputs": [],
   "source": [
    "# fit on default params # fit HPO\n",
    "\n",
    "bias_model = XGBRegressor()\n",
    "bias_model.fit(X=x_train, y=y_train)\n",
    "preds = bias_model.predict(x_test)\n",
    "\n",
    "# future: consider trying catboost bc so many categoricals"
   ]
  },
  {
   "cell_type": "code",
   "execution_count": 55,
   "metadata": {},
   "outputs": [
    {
     "name": "stdout",
     "output_type": "stream",
     "text": [
      "Mean Absolute Error: 0.33555892\n",
      "Fraction of total target variance accounted for (r^2): 0.9837459544439334\n"
     ]
    }
   ],
   "source": [
    "# evaluate accuracy\n",
    "print('Mean Absolute Error:',mean_absolute_error(y_test, preds))\n",
    "print('Fraction of total target variance accounted for (r^2):', r2_score(y_test, preds))"
   ]
  },
  {
   "cell_type": "code",
   "execution_count": 56,
   "metadata": {},
   "outputs": [
    {
     "data": {
      "text/plain": [
       "count    30904.000000\n",
       "mean         5.317721\n",
       "std          7.650752\n",
       "min         -2.081328\n",
       "25%          1.706786\n",
       "50%          3.422073\n",
       "75%          5.500696\n",
       "max        101.552589\n",
       "dtype: float64"
      ]
     },
     "execution_count": 56,
     "metadata": {},
     "output_type": "execute_result"
    }
   ],
   "source": [
    "pd.Series(y_test).describe()"
   ]
  },
  {
   "cell_type": "code",
   "execution_count": 57,
   "metadata": {},
   "outputs": [
    {
     "data": {
      "text/html": [
       "<div>\n",
       "<style scoped>\n",
       "    .dataframe tbody tr th:only-of-type {\n",
       "        vertical-align: middle;\n",
       "    }\n",
       "\n",
       "    .dataframe tbody tr th {\n",
       "        vertical-align: top;\n",
       "    }\n",
       "\n",
       "    .dataframe thead th {\n",
       "        text-align: right;\n",
       "    }\n",
       "</style>\n",
       "<table border=\"1\" class=\"dataframe\">\n",
       "  <thead>\n",
       "    <tr style=\"text-align: right;\">\n",
       "      <th></th>\n",
       "      <th>y_true</th>\n",
       "      <th>y_preds</th>\n",
       "      <th>error</th>\n",
       "    </tr>\n",
       "  </thead>\n",
       "  <tbody>\n",
       "    <tr>\n",
       "      <th>27848</th>\n",
       "      <td>66.331451</td>\n",
       "      <td>24.529114</td>\n",
       "      <td>41.802338</td>\n",
       "    </tr>\n",
       "    <tr>\n",
       "      <th>11126</th>\n",
       "      <td>54.198299</td>\n",
       "      <td>29.842640</td>\n",
       "      <td>24.355659</td>\n",
       "    </tr>\n",
       "    <tr>\n",
       "      <th>30191</th>\n",
       "      <td>8.148565</td>\n",
       "      <td>26.433958</td>\n",
       "      <td>18.285393</td>\n",
       "    </tr>\n",
       "    <tr>\n",
       "      <th>15304</th>\n",
       "      <td>89.812347</td>\n",
       "      <td>71.714668</td>\n",
       "      <td>18.097679</td>\n",
       "    </tr>\n",
       "    <tr>\n",
       "      <th>22544</th>\n",
       "      <td>8.552241</td>\n",
       "      <td>26.498621</td>\n",
       "      <td>17.946381</td>\n",
       "    </tr>\n",
       "    <tr>\n",
       "      <th>...</th>\n",
       "      <td>...</td>\n",
       "      <td>...</td>\n",
       "      <td>...</td>\n",
       "    </tr>\n",
       "    <tr>\n",
       "      <th>20186</th>\n",
       "      <td>3.062145</td>\n",
       "      <td>3.062108</td>\n",
       "      <td>0.000036</td>\n",
       "    </tr>\n",
       "    <tr>\n",
       "      <th>1582</th>\n",
       "      <td>5.985272</td>\n",
       "      <td>5.985239</td>\n",
       "      <td>0.000033</td>\n",
       "    </tr>\n",
       "    <tr>\n",
       "      <th>1741</th>\n",
       "      <td>1.311262</td>\n",
       "      <td>1.311289</td>\n",
       "      <td>0.000027</td>\n",
       "    </tr>\n",
       "    <tr>\n",
       "      <th>6527</th>\n",
       "      <td>8.666124</td>\n",
       "      <td>8.666148</td>\n",
       "      <td>0.000024</td>\n",
       "    </tr>\n",
       "    <tr>\n",
       "      <th>29327</th>\n",
       "      <td>2.044723</td>\n",
       "      <td>2.044704</td>\n",
       "      <td>0.000018</td>\n",
       "    </tr>\n",
       "  </tbody>\n",
       "</table>\n",
       "<p>30904 rows × 3 columns</p>\n",
       "</div>"
      ],
      "text/plain": [
       "          y_true    y_preds      error\n",
       "27848  66.331451  24.529114  41.802338\n",
       "11126  54.198299  29.842640  24.355659\n",
       "30191   8.148565  26.433958  18.285393\n",
       "15304  89.812347  71.714668  18.097679\n",
       "22544   8.552241  26.498621  17.946381\n",
       "...          ...        ...        ...\n",
       "20186   3.062145   3.062108   0.000036\n",
       "1582    5.985272   5.985239   0.000033\n",
       "1741    1.311262   1.311289   0.000027\n",
       "6527    8.666124   8.666148   0.000024\n",
       "29327   2.044723   2.044704   0.000018\n",
       "\n",
       "[30904 rows x 3 columns]"
      ]
     },
     "execution_count": 57,
     "metadata": {},
     "output_type": "execute_result"
    }
   ],
   "source": [
    "# evaluate error distribution\n",
    "c = pd.DataFrame({'y_true':y_test,'y_preds':preds})\n",
    "c['error'] = np.abs(c['y_true'] - c['y_preds'])\n",
    "\n",
    "c.sort_values('error', ascending=False)\n",
    "# future: look for patterns in where the error is highest. \n",
    "#cluster high erros, or even regress against erros?"
   ]
  },
  {
   "cell_type": "code",
   "execution_count": 58,
   "metadata": {},
   "outputs": [
    {
     "data": {
      "text/plain": [
       "count    30904.000000\n",
       "mean         0.335559\n",
       "std          0.915866\n",
       "min          0.000018\n",
       "25%          0.041195\n",
       "50%          0.103850\n",
       "75%          0.254259\n",
       "max         41.802338\n",
       "Name: error, dtype: float64"
      ]
     },
     "execution_count": 58,
     "metadata": {},
     "output_type": "execute_result"
    }
   ],
   "source": [
    "c.error.describe()"
   ]
  },
  {
   "cell_type": "code",
   "execution_count": 59,
   "metadata": {},
   "outputs": [
    {
     "data": {
      "text/plain": [
       "count    30904.000000\n",
       "mean         5.300057\n",
       "std          7.473743\n",
       "min         -1.960760\n",
       "25%          1.713394\n",
       "50%          3.472389\n",
       "75%          5.549180\n",
       "max         98.448921\n",
       "Name: y_preds, dtype: float64"
      ]
     },
     "execution_count": 59,
     "metadata": {},
     "output_type": "execute_result"
    }
   ],
   "source": [
    "c.y_preds.describe()"
   ]
  },
  {
   "cell_type": "code",
   "execution_count": null,
   "metadata": {},
   "outputs": [],
   "source": []
  },
  {
   "cell_type": "code",
   "execution_count": 60,
   "metadata": {},
   "outputs": [],
   "source": [
    "# build pipeline\n",
    "categorical_transform = ('categorical_transform', df_trans)\n",
    "bias_estimator = ('bias_estimator', bias_model)\n",
    "bias_pipe = Pipeline([categorical_transform, bias_estimator])"
   ]
  },
  {
   "cell_type": "code",
   "execution_count": 61,
   "metadata": {},
   "outputs": [],
   "source": [
    "# check\n",
    "a = bias_pipe.predict(orig_x_test)\n",
    "b = bias_model.predict(x_test)\n",
    "assert all(a==b)"
   ]
  },
  {
   "cell_type": "code",
   "execution_count": 62,
   "metadata": {},
   "outputs": [],
   "source": [
    "# visualize feature importance\n",
    "\n",
    "#bias_model.get_booster().get_fscore() \n",
    "\n"
   ]
  },
  {
   "cell_type": "code",
   "execution_count": 63,
   "metadata": {},
   "outputs": [],
   "source": [
    "# pickle that model (and turn pre processing into a script\n",
    "if False:\n",
    "    ts = dt.datetime.now().strftime('%Y-%m-%d_%Hh%Mm%Ss')\n",
    "    with open('../saved_models/bias_pipe'+ts+'.pkl', 'wb') as f:\n",
    "        pickle.dump(bias_pipe, f, -1)\n"
   ]
  },
  {
   "cell_type": "code",
   "execution_count": 64,
   "metadata": {},
   "outputs": [
    {
     "ename": "NotImplementedError",
     "evalue": "get_feature_names is not yet supported when using a 'passthrough' transformer.",
     "output_type": "error",
     "traceback": [
      "\u001b[0;31m---------------------------------------------------------------------------\u001b[0m",
      "\u001b[0;31mNotImplementedError\u001b[0m                       Traceback (most recent call last)",
      "\u001b[0;32m<ipython-input-64-657ccf78b03b>\u001b[0m in \u001b[0;36m<module>\u001b[0;34m\u001b[0m\n\u001b[0;32m----> 1\u001b[0;31m \u001b[0mbias_pipe\u001b[0m\u001b[0;34m[\u001b[0m\u001b[0;34m'categorical_transform'\u001b[0m\u001b[0;34m]\u001b[0m\u001b[0;34m.\u001b[0m\u001b[0mget_feature_names\u001b[0m\u001b[0;34m(\u001b[0m\u001b[0;34m)\u001b[0m\u001b[0;34m\u001b[0m\u001b[0;34m\u001b[0m\u001b[0m\n\u001b[0m",
      "\u001b[0;32m/Library/Frameworks/Python.framework/Versions/3.7/lib/python3.7/site-packages/sklearn/compose/_column_transformer.py\u001b[0m in \u001b[0;36mget_feature_names\u001b[0;34m(self)\u001b[0m\n\u001b[1;32m    356\u001b[0m             \u001b[0;32melif\u001b[0m \u001b[0mtrans\u001b[0m \u001b[0;34m==\u001b[0m \u001b[0;34m'passthrough'\u001b[0m\u001b[0;34m:\u001b[0m\u001b[0;34m\u001b[0m\u001b[0;34m\u001b[0m\u001b[0m\n\u001b[1;32m    357\u001b[0m                 raise NotImplementedError(\n\u001b[0;32m--> 358\u001b[0;31m                     \u001b[0;34m\"get_feature_names is not yet supported when using \"\u001b[0m\u001b[0;34m\u001b[0m\u001b[0;34m\u001b[0m\u001b[0m\n\u001b[0m\u001b[1;32m    359\u001b[0m                     \"a 'passthrough' transformer.\")\n\u001b[1;32m    360\u001b[0m             \u001b[0;32melif\u001b[0m \u001b[0;32mnot\u001b[0m \u001b[0mhasattr\u001b[0m\u001b[0;34m(\u001b[0m\u001b[0mtrans\u001b[0m\u001b[0;34m,\u001b[0m \u001b[0;34m'get_feature_names'\u001b[0m\u001b[0;34m)\u001b[0m\u001b[0;34m:\u001b[0m\u001b[0;34m\u001b[0m\u001b[0;34m\u001b[0m\u001b[0m\n",
      "\u001b[0;31mNotImplementedError\u001b[0m: get_feature_names is not yet supported when using a 'passthrough' transformer."
     ]
    }
   ],
   "source": [
    "bias_pipe['categorical_transform'].get_feature_names()"
   ]
  },
  {
   "cell_type": "code",
   "execution_count": null,
   "metadata": {},
   "outputs": [],
   "source": []
  },
  {
   "cell_type": "code",
   "execution_count": null,
   "metadata": {},
   "outputs": [],
   "source": [
    "# Predict racial bias\n",
    "# should race be included in the racial bias prediction model? \n",
    "# No, because the bias is symetric, it is as real and notable (although opposite) \n",
    "# in for the white convicted person and the black. Could seeing the effect of \n",
    "# adding race to the model be a test of its performance (less effect the better)?"
   ]
  },
  {
   "cell_type": "code",
   "execution_count": null,
   "metadata": {},
   "outputs": [],
   "source": []
  },
  {
   "cell_type": "markdown",
   "metadata": {},
   "source": [
    "Limitations and Future Work:\n",
    "* we expect past history of convictions to play a significant role in predicting sentence length and be unqually distributed by race. We did not include this factor because limitations in data access, and this is serious limitation in the accuracy of our models. Incorporating this information will be a critical future work step.\n",
    "* consider class imbalance of black versus white convicted persons\n",
    "* use age at sentencing not age at incident, to better predict sentence length."
   ]
  },
  {
   "cell_type": "code",
   "execution_count": null,
   "metadata": {},
   "outputs": [],
   "source": [
    "import sklearn"
   ]
  },
  {
   "cell_type": "code",
   "execution_count": 65,
   "metadata": {},
   "outputs": [
    {
     "ename": "NameError",
     "evalue": "name 'sklearn' is not defined",
     "output_type": "error",
     "traceback": [
      "\u001b[0;31m---------------------------------------------------------------------------\u001b[0m",
      "\u001b[0;31mNameError\u001b[0m                                 Traceback (most recent call last)",
      "\u001b[0;32m<ipython-input-65-23f6bb2ba045>\u001b[0m in \u001b[0;36m<module>\u001b[0;34m\u001b[0m\n\u001b[0;32m----> 1\u001b[0;31m \u001b[0msklearn\u001b[0m\u001b[0;34m.\u001b[0m\u001b[0mshow_versions\u001b[0m\u001b[0;34m(\u001b[0m\u001b[0;34m)\u001b[0m \u001b[0;31m### pip reqs got it wrong!!!!\u001b[0m\u001b[0;34m\u001b[0m\u001b[0;34m\u001b[0m\u001b[0m\n\u001b[0m",
      "\u001b[0;31mNameError\u001b[0m: name 'sklearn' is not defined"
     ]
    }
   ],
   "source": [
    "sklearn.show_versions() ### pip reqs got it wrong!!!!"
   ]
  },
  {
   "cell_type": "code",
   "execution_count": null,
   "metadata": {},
   "outputs": [],
   "source": []
  },
  {
   "cell_type": "markdown",
   "metadata": {},
   "source": [
    "###TODO\n",
    "- clean up flask notes and schema.. etc...\n",
    "- historgram of sentence lenghts (target)\n",
    "- visualize sentence model errors (w.r.t. each var?)\n",
    "- HPO on xgb\n",
    "- How predictive is race of sentence length\n",
    "    - feature importance on sentence model (permutation?)\n",
    "    - accuracy of sentencing model without race (97% r2 on counterfactual data w/o race) (similar to permutation importance of race)\n",
    "- In what specifc scenarios, does race play a major factor\n",
    "    - identify profiles of extreme discrepancy (maybe just from observed examples - or optimization of discrepancy in feature space) where there is a high discrepancy, also optimize on high race shapley scores\n",
    "    - shapley interpretation of extreme discrepancies, \n",
    "    - look for support of race counterfactual holding all other predictors constant (or some like pca of the other predictors)(or nearest neighbor support) on high discrepancy profiles (in addition to model error)\n",
    "    - generic support of other predictors by race\n",
    "- What factors (on average) influcene setence discrepancy most?\n",
    "    - make interpretive sentence discrepancy model\n",
    "    - accuracy and error viz/check for validity of model\n",
    "    - Visualize the feature imprtance of setence discrepancy and interpret to answer the q\n",
    "\n",
    "- turn categorical consolidator into a transformer that can be optimized\n",
    "- what does the discrepancy mean? Interpret the causal significance of the discrepancy, and the fact that race is not capturing th eway race works thru other variable even the bias of the judges. Consider putting fewer variables into the sentence model, so that the racial counterfactual caputres more contributing factors, use a DAG to show how race can capture the effect of other variables\n",
    "-clean notebook\n",
    "-get feedback from causal inference folks (the problem is that while I have conditioned, I haven't conditioned on a theoretically grounded backdoor set) - CPAT person, the telaviv person\n",
    "- share with CPAT, maybe even request a code review and share with analyze chapter\n",
    "\n"
   ]
  },
  {
   "cell_type": "markdown",
   "metadata": {},
   "source": [
    "- deploy w/o container\n",
    "- install dependencies via: poetry install OR requirements.txt \n",
    "-  \\+ run flask (which serves to (default) 5000 port on my public IP?)\n",
    "-  in src/ dir\n",
    "```\n",
    "export FLASK_ENV=development\n",
    "export FLASK_APP=server.py\n",
    "flask run\n",
    "```\n",
    "\n",
    "default port is 5000 for flask apps\n",
    "\n",
    "\n",
    "- docker container deploy\n",
    "- the flask env vars are set by special env vars of the docker image\n",
    "- each image/application server has their own start script for flask\n",
    "- be in python/ dir\n",
    "```\n",
    "docker build -t embrace2020 .\n",
    "docker run -d -p 4000:80 embrace2020:latest\n",
    "```\n",
    "    \n",
    "\n",
    "\n",
    "\n",
    "alpine linux --very stripped down linux\n",
    "- no binary wheels for for alpine linux numpy sklearn, etc so required build from source...\n",
    "\n",
    "\n",
    "tcp - has guarantees that data will arrive resend until it arrives, slower bc there is all the meta communication, requires buffering things to make sure connection is alive, which makes \"live\" delayed\n",
    "udp - can loose packets, but will stay live.. its ok if ther eis ome data loss, no acknoleges"
   ]
  },
  {
   "cell_type": "code",
   "execution_count": null,
   "metadata": {},
   "outputs": [],
   "source": []
  }
 ],
 "metadata": {
  "kernelspec": {
   "display_name": "Python 3",
   "language": "python",
   "name": "python3"
  },
  "language_info": {
   "codemirror_mode": {
    "name": "ipython",
    "version": 3
   },
   "file_extension": ".py",
   "mimetype": "text/x-python",
   "name": "python",
   "nbconvert_exporter": "python",
   "pygments_lexer": "ipython3",
   "version": "3.7.7"
  }
 },
 "nbformat": 4,
 "nbformat_minor": 4
}
